{
  "nbformat": 4,
  "nbformat_minor": 0,
  "metadata": {
    "colab": {
      "name": "Actividad7.ipynb",
      "provenance": [],
      "collapsed_sections": []
    },
    "kernelspec": {
      "display_name": "Python 3",
      "name": "python3"
    }
  },
  "cells": [
    {
      "cell_type": "markdown",
      "metadata": {
        "id": "tsFqmjpM6ffL"
      },
      "source": [
        "##*Elizabeth Torres Torrecillas* "
      ]
    },
    {
      "cell_type": "markdown",
      "metadata": {
        "id": "OJ1Q3akH6jvy"
      },
      "source": [
        "# *Actividad 7*"
      ]
    },
    {
      "cell_type": "markdown",
      "metadata": {
        "id": "kuV9FI986heD"
      },
      "source": [
        "\r\n",
        "\r\n",
        "---\r\n",
        "\r\n",
        "---\r\n",
        "\r\n",
        "\r\n",
        "\r\n"
      ]
    },
    {
      "cell_type": "code",
      "metadata": {
        "id": "AckEkVja6eme",
        "colab": {
          "base_uri": "https://localhost:8080/"
        },
        "outputId": "359e0543-ecee-48ca-f276-4dc2685c6928"
      },
      "source": [
        "#Importar bibliotecas a utilizar \r\n",
        "import numpy as np\r\n",
        "import pandas as pd\r\n",
        "import seaborn as sns\r\n",
        "import statsmodels.api as sm\r\n",
        "#No existe un símbolo para denotar las potencias de matrices, por eso definimos la función 'mpow'\r\n",
        "from numpy.linalg import matrix_power as mpow\r\n",
        "import matplotlib.pyplot as plt\r\n",
        "#Utilizaremos la biblioteca *scipy.linalg* para operar con vectores y matrices\r\n",
        "import scipy.linalg as la\r\n",
        "#Matplotlib mostrará los resultados en la Notebook de Jupyter \r\n",
        "%matplotlib inline"
      ],
      "execution_count": 1,
      "outputs": [
        {
          "output_type": "stream",
          "text": [
            "/usr/local/lib/python3.7/dist-packages/statsmodels/tools/_testing.py:19: FutureWarning: pandas.util.testing is deprecated. Use the functions in the public API at pandas.testing instead.\n",
            "  import pandas.util.testing as tm\n"
          ],
          "name": "stderr"
        }
      ]
    },
    {
      "cell_type": "markdown",
      "metadata": {
        "id": "VeZfp61p7CrA"
      },
      "source": [
        "* Álgebra Lineal con Python"
      ]
    },
    {
      "cell_type": "markdown",
      "metadata": {
        "id": "Lhuudcv47VAB"
      },
      "source": [
        "**Ejercicio 1** \r\n",
        "\r\n",
        "Defina las siguientes matrices.\r\n",
        "\r\n",
        "\\begin{equation*}\r\n",
        " A\r\n",
        " =\r\n",
        "  \\begin{bmatrix}\r\n",
        "   1 & 3 \\\\\r\n",
        "   -1 & 7\r\n",
        "   \\end{bmatrix}\r\n",
        "\\end{equation*}\r\n",
        "\r\n",
        "\r\n",
        "\\begin{equation*}\r\n",
        " B =\r\n",
        "  \\begin{bmatrix}\r\n",
        "   5 & 2 \\\\\r\n",
        "   1 & 2\r\n",
        "   \\end{bmatrix}\r\n",
        "\\end{equation*}\r\n",
        "\r\n",
        " y la matrix identidad \r\n",
        "\r\n",
        " \\begin{equation*}\r\n",
        " I = \r\n",
        "   \\begin{bmatrix}\r\n",
        "   1 & 0 \\\\\r\n",
        "   0 & 1\r\n",
        "   \\end{bmatrix}\r\n",
        "\\end{equation*}\r\n",
        "\r\n",
        "Calcule el resultado de $2*I+3*A+A@B$.\r\n"
      ]
    },
    {
      "cell_type": "code",
      "metadata": {
        "id": "-D405Ddl6nv4"
      },
      "source": [
        "#Definimos una matriz A\r\n",
        "A = np.array([[1,3],[-1,7]])\r\n",
        "#Definimos una matriz B\r\n",
        "B = np.array([[5,2],[1,2]])\r\n",
        "#Para definir la matriz identidad, se puede utilizar la función np.eye(2, dtype=int)\r\n",
        "I = np.eye(2, dtype=int)"
      ],
      "execution_count": 2,
      "outputs": []
    },
    {
      "cell_type": "code",
      "metadata": {
        "id": "IyC9dkq99fEy",
        "colab": {
          "base_uri": "https://localhost:8080/"
        },
        "outputId": "06470e4c-2219-4460-ba64-41040bf84592"
      },
      "source": [
        "#Calculamos el resultado de la operación matricial:\r\n",
        "R = 2*I+3*A+A@B\r\n",
        "print(R)"
      ],
      "execution_count": 3,
      "outputs": [
        {
          "output_type": "stream",
          "text": [
            "[[13 17]\n",
            " [-1 35]]\n"
          ],
          "name": "stdout"
        }
      ]
    },
    {
      "cell_type": "markdown",
      "metadata": {
        "id": "MR72XQmW-QZ-"
      },
      "source": [
        "**Ejercicio 2**\r\n",
        "\r\n",
        "Los polinomios característicos y el Teorema de Cayley-Hamilton.\r\n",
        "\r\n",
        "El polinomio característico de una matriz M esta dado en general por la ecuación \r\n",
        "\\begin{equation}\r\n",
        "\\det(M - \\lambda I) = 0\r\n",
        "\\end{equation}\r\n",
        "Para una matriz cuadrada M (2x2), el polinomio característico se puede escribir como\r\n",
        "\\begin{equation}\r\n",
        "P_2 (\\lambda) = \\det{(M)} - \\mathrm{tr}(M) \\, \\lambda + \\lambda^2   \r\n",
        "\\end{equation}\r\n",
        "y para una matriz cuadrada M (3x3), el polinomio característico resulta ser\r\n",
        "\r\n",
        "\\begin{equation}\r\n",
        "P_3 (\\lambda) = \\frac{1}{6} \r\n",
        "[ \\mathrm{tr}^3 (M) + 2 \\, \\mathrm{tr }(M^3) - 3 \\, \\mathrm{tr}(M) \\mathrm{tr}(M^2) ] - \r\n",
        "\\frac{1}{2} [ \\mathrm{tr}^2 (M) - \\mathrm{tr}(M^2) ] \\lambda + \\mathrm{tr}(M) \\lambda^2 - \\lambda^3\r\n",
        "\\end{equation}\r\n",
        "\r\n",
        "[El Teorema de Cayley-Hamilton](https://en.wikipedia.org/wiki/Cayley–Hamilton_theorem) nos dice que una matriz cuadrada M (2x2), satisface el polinomio característico\r\n",
        "\\begin{equation}\r\n",
        "P_2(M) = \\det(M) - \\mathrm{tr}(M) M + M^2 \r\n",
        "\\end{equation}\r\n",
        "y en general cualquier matriz cuadrada M (nxn), satisface $P_n(M)$. \r\n",
        "\r\n",
        "Demuestre esto para cualquier matriz M (2x2),  ($\\det(M) \\neq 0$)."
      ]
    },
    {
      "cell_type": "markdown",
      "metadata": {
        "id": "-Y8z9nc3YAZX"
      },
      "source": [
        "* Siendo la matriz M(2x2)\r\n",
        "\\begin{equation*}\r\n",
        " M =\r\n",
        "  \\begin{bmatrix}\r\n",
        "   a & b \\\\\r\n",
        "   c & d\r\n",
        "   \\end{bmatrix}\r\n",
        "\\end{equation*}"
      ]
    },
    {
      "cell_type": "code",
      "metadata": {
        "id": "MeT8cgnN97ua",
        "colab": {
          "base_uri": "https://localhost:8080/"
        },
        "outputId": "e940b079-070c-4d37-f0df-8f03d0a256ee"
      },
      "source": [
        "#Definimos la matriz M (2x2)\r\n",
        "#Donde se le pregunta al usuario las componentes de la matriz de interés\r\n",
        "a = float( input( \"Introduzca el valor de a: \" ) )\r\n",
        "b = float( input( \"Introduzca el valor de b: \" ) )\r\n",
        "c = float( input( \"Introduzca el valor de c: \" ) )\r\n",
        "d = float( input( \"Introduzca el valor de d: \" ) )\r\n",
        "\r\n",
        "M = np.array([[a,b],[c,d]])\r\n",
        "\r\n",
        "#Definimos la matriz Identidad (2x2)\r\n",
        "I = np.eye(2, dtype=int)\r\n",
        "\r\n",
        "#Calculamos el determinante de la matriz M \r\n",
        "det_M = la.det(M)\r\n",
        "print(\"Determinante de M:\", det_M)\r\n",
        "\r\n",
        "#Calculamos la traza de M \r\n",
        "tr_M = np.trace(M)\r\n",
        "print(\"Traza de M:\", tr_M)\r\n",
        "2\r\n",
        "#Por el Teorema de Cayley-Hamilton\r\n",
        "#El polinomio característico M(2x2), es de la forma:\r\n",
        "PC = (det_M*I) - (tr_M*M) + (mpow(M,2))\r\n",
        "print(\"Polinomio Característico:\", PC)"
      ],
      "execution_count": 4,
      "outputs": [
        {
          "output_type": "stream",
          "text": [
            "Introduzca el valor de a: 88\n",
            "Introduzca el valor de b: 2\n",
            "Introduzca el valor de c: 9\n",
            "Introduzca el valor de d: 1\n",
            "Determinante de M: 70.0\n",
            "Traza de M: 89.0\n",
            "Polinomio Característico: [[0. 0.]\n",
            " [0. 0.]]\n"
          ],
          "name": "stdout"
        }
      ]
    },
    {
      "cell_type": "markdown",
      "metadata": {
        "id": "_J3yQFjf4YC3"
      },
      "source": [
        "**Ejercicio 3**\r\n",
        "\r\n",
        "Resuelva el sistema de ecuaciones.\r\n",
        "\r\n",
        "\\begin{eqnarray*}\r\n",
        "x - 3 y + z & = & 1 \\\\ \\nonumber\r\n",
        "3 x - 4y + z & = & 5 \\\\ \\nonumber\r\n",
        "2 y - z & = & 0 \\\\ \\nonumber\r\n",
        "\\end{eqnarray*}\r\n",
        "\r\n",
        "La resolución del sistema de ecuaciones lineales será mediante  el método de Gauss Jordan. \\\\\r\n",
        "Siendo el sistema de forma matricial:\r\n",
        "\r\n",
        "$$ \\begin{bmatrix}\r\n",
        "1 & -3 & 1 \\\\\r\n",
        "3 & -4 & 1\\\\\r\n",
        "0 & 2 & -1\r\n",
        "\\end{bmatrix}\\begin{bmatrix}\r\n",
        "x \\\\\r\n",
        "y \\\\\r\n",
        "z\r\n",
        "\\end{bmatrix}=\\begin{bmatrix}\r\n",
        "1\\\\\r\n",
        "5\\\\\r\n",
        "0\r\n",
        "\\end{bmatrix} $$\r\n",
        "\r\n",
        "Donde la matriz aumentada del sistema es:\r\n",
        "\r\n",
        "$$\\begin{bmatrix}\r\n",
        "1 & -3 & 1 & | & 1\\\\\r\n",
        "3 & -4 & 1 & | & 5\\\\\r\n",
        "0 & 2 & -1 & | & 0\r\n",
        "\\end{bmatrix}$$\r\n"
      ]
    },
    {
      "cell_type": "code",
      "metadata": {
        "id": "I-F9EJvN0G-0"
      },
      "source": [
        "#Resolviendo un sistema de ecuaciones lineales\r\n",
        "#Método de Eliminación Gaussiana\r\n",
        "\r\n",
        "#Definimos nuestras funciones que nos ayudarán a realizar dicha eliminación\r\n",
        "#Primera función\r\n",
        "#Esta tiene la función de intercambiar la posición de los renglones.\r\n",
        "def switch_rows(A,i,j):\r\n",
        "    \"Intercambiar renglones i y j en la matriz A.\"\r\n",
        "    n = A.shape[0]\r\n",
        "    E = np.eye(n)\r\n",
        "    E[i,i] = 0\r\n",
        "    E[j,j] = 0\r\n",
        "    E[i,j] = 1\r\n",
        "    E[j,i] = 1\r\n",
        "    return E @ A\r\n",
        "\r\n",
        "#Segunda función\r\n",
        "#Esta tiene la función multiplicar un renglón por una constante no nula. \r\n",
        "def scale_row(A,k,i):\r\n",
        "    \"Multiplicar el renglón i por k en la matriz A.\"\r\n",
        "    n = A.shape[0]\r\n",
        "    E = np.eye(n)\r\n",
        "    E[i,i] = k\r\n",
        "    return E @ A\r\n",
        "\r\n",
        "#Tercera función\r\n",
        "#Esta tiene la función de sumar un múltiplo de un reglon a otro renglón.\r\n",
        "def add_row(A,k,i,j):\r\n",
        "    \"Sumar k veces el renglón j al renglón i en la matriz A.\"\r\n",
        "    n = A.shape[0]\r\n",
        "    E = np.eye(n)\r\n",
        "    if i == j:\r\n",
        "        E[i,i] = k + 1\r\n",
        "    else:\r\n",
        "        E[i,j] = k\r\n",
        "    return E @ A"
      ],
      "execution_count": 5,
      "outputs": []
    },
    {
      "cell_type": "markdown",
      "metadata": {
        "id": "BERcLTKC7Lia"
      },
      "source": [
        "Sistema de ecuaciones a resolver:\r\n",
        "\r\n",
        "\\begin{eqnarray*}\r\n",
        "x - 3 y + z & = & 1 \\\\ \\nonumber\r\n",
        "3 x - 4y + z & = & 5 \\\\ \\nonumber\r\n",
        "2 y - z & = & 0 \\\\ \\nonumber\r\n",
        "\\end{eqnarray*}"
      ]
    },
    {
      "cell_type": "code",
      "metadata": {
        "id": "cdtS-JwT6aLK",
        "colab": {
          "base_uri": "https://localhost:8080/"
        },
        "outputId": "2982d496-d9f9-4bc7-ae42-ad578616886d"
      },
      "source": [
        "#Definimos una matriz M (3x3)\r\n",
        "#Dicha matriz representa los coeficientes de los términos lineales x, y, z del sistema\r\n",
        "A = np.array([[1,-3,1],[3,-4,1],[0,2,-1]])\r\n",
        "\r\n",
        "#Definimos una matriz A (3x1)\r\n",
        "#Es la matriz de los términos independientes del sistema\r\n",
        "B = np.array([1,5,0]).reshape(3,1)\r\n",
        "\r\n",
        "#Determinamos la matriz aumentada del sistema\r\n",
        "#Hacemos un tratado para poner acomodarlo de tal forma que podamos escribir la matriz aumentada del sistema\r\n",
        "M = A\r\n",
        "M = np.hstack([M,B])\r\n",
        "print(M,)"
      ],
      "execution_count": 6,
      "outputs": [
        {
          "output_type": "stream",
          "text": [
            "[[ 1 -3  1  1]\n",
            " [ 3 -4  1  5]\n",
            " [ 0  2 -1  0]]\n"
          ],
          "name": "stdout"
        }
      ]
    },
    {
      "cell_type": "code",
      "metadata": {
        "id": "CXCqPv9V8t6B",
        "colab": {
          "base_uri": "https://localhost:8080/"
        },
        "outputId": "9ff6404d-7601-402c-9e5c-ed252ad0dcfc"
      },
      "source": [
        "#Comenzamos a aplicar el método de eliminación gaussiana\r\n",
        "#Multiplicamos al primer renglón por -3\r\n",
        "#Le sumamos al nuevo primer renglón al segundo \r\n",
        "M = add_row(M,-3,1,0)\r\n",
        "#Vemos cómo va la matriz\r\n",
        "print(M)"
      ],
      "execution_count": 7,
      "outputs": [
        {
          "output_type": "stream",
          "text": [
            "[[ 1. -3.  1.  1.]\n",
            " [ 0.  5. -2.  2.]\n",
            " [ 0.  2. -1.  0.]]\n"
          ],
          "name": "stdout"
        }
      ]
    },
    {
      "cell_type": "code",
      "metadata": {
        "id": "0DMXTUxxkvnI",
        "colab": {
          "base_uri": "https://localhost:8080/"
        },
        "outputId": "92a8f94a-dc73-4baa-8775-f6bf891587e7"
      },
      "source": [
        "#Multiplicamos el segundo renglón por 1/5\r\n",
        "M = scale_row(M,1/5,1)\r\n",
        "#Vemos cómo va la matriz\r\n",
        "print(M)"
      ],
      "execution_count": 8,
      "outputs": [
        {
          "output_type": "stream",
          "text": [
            "[[ 1.  -3.   1.   1. ]\n",
            " [ 0.   1.  -0.4  0.4]\n",
            " [ 0.   2.  -1.   0. ]]\n"
          ],
          "name": "stdout"
        }
      ]
    },
    {
      "cell_type": "code",
      "metadata": {
        "id": "1rfQX_lfkuDl",
        "colab": {
          "base_uri": "https://localhost:8080/"
        },
        "outputId": "2d10b0d8-954c-4821-a139-46cf5da7783a"
      },
      "source": [
        "#Multiplicamos por -2 al segundo renglón\r\n",
        "#Le sumamos el nuevo segundo renglón al tercer renglón\r\n",
        "M = add_row(M,-2,2,1)\r\n",
        "#Vemos cómo va la matriz\r\n",
        "print(M)"
      ],
      "execution_count": 9,
      "outputs": [
        {
          "output_type": "stream",
          "text": [
            "[[ 1.  -3.   1.   1. ]\n",
            " [ 0.   1.  -0.4  0.4]\n",
            " [ 0.   0.  -0.2 -0.8]]\n"
          ],
          "name": "stdout"
        }
      ]
    },
    {
      "cell_type": "code",
      "metadata": {
        "id": "3OYHQ51ZkoLo",
        "colab": {
          "base_uri": "https://localhost:8080/"
        },
        "outputId": "b1cee8fc-8bf0-48a1-d4d5-2f9fba71ffd5"
      },
      "source": [
        "#Multiplicamos el segundo renglón por 3\r\n",
        "#Le sumamos el nuevo segundo renglón el primer renglón \r\n",
        "M = add_row(M,3,0,1)#Vemos cómo va la matriz\r\n",
        "print(M)"
      ],
      "execution_count": 10,
      "outputs": [
        {
          "output_type": "stream",
          "text": [
            "[[ 1.   0.  -0.2  2.2]\n",
            " [ 0.   1.  -0.4  0.4]\n",
            " [ 0.   0.  -0.2 -0.8]]\n"
          ],
          "name": "stdout"
        }
      ]
    },
    {
      "cell_type": "code",
      "metadata": {
        "id": "aSASGEbskmle",
        "colab": {
          "base_uri": "https://localhost:8080/"
        },
        "outputId": "61fb0e2d-2ec9-4213-9c5e-c4bef79b7692"
      },
      "source": [
        "#Multiplicamos el tercer renglón por -1/0.2\r\n",
        "M = scale_row(M,-1/0.2,2)\r\n",
        "#Vemos cómo va la matriz\r\n",
        "print(M)"
      ],
      "execution_count": 11,
      "outputs": [
        {
          "output_type": "stream",
          "text": [
            "[[ 1.   0.  -0.2  2.2]\n",
            " [ 0.   1.  -0.4  0.4]\n",
            " [ 0.   0.   1.   4. ]]\n"
          ],
          "name": "stdout"
        }
      ]
    },
    {
      "cell_type": "code",
      "metadata": {
        "id": "X7MjbuphklGc",
        "colab": {
          "base_uri": "https://localhost:8080/"
        },
        "outputId": "113f54b1-3c00-4a20-9107-59df798d51ed"
      },
      "source": [
        "#Multiplicamos el tercer renglón por 0.2\r\n",
        "#Le sumamos el nuevo tercer renglón al primer renglón \r\n",
        "M = add_row(M,0.2,0,2)#Vemos cómo va la matriz\r\n",
        "print(M)"
      ],
      "execution_count": 12,
      "outputs": [
        {
          "output_type": "stream",
          "text": [
            "[[ 1.00000000e+00  0.00000000e+00 -9.99200722e-17  3.00000000e+00]\n",
            " [ 0.00000000e+00  1.00000000e+00 -4.00000000e-01  4.00000000e-01]\n",
            " [ 0.00000000e+00  0.00000000e+00  1.00000000e+00  4.00000000e+00]]\n"
          ],
          "name": "stdout"
        }
      ]
    },
    {
      "cell_type": "code",
      "metadata": {
        "id": "x7Q0LMYj9wpC",
        "colab": {
          "base_uri": "https://localhost:8080/"
        },
        "outputId": "9c525dba-d377-452f-f937-5eabaa668ba8"
      },
      "source": [
        "#Multiplicamos el tercer renglón por 0.4\r\n",
        "#Le sumamos el nuevo tercer renglón al segundo renglón\r\n",
        "M = add_row(M,0.4,1,2)\r\n",
        "#Vemos cómo va la matriz\r\n",
        "print(M)"
      ],
      "execution_count": 13,
      "outputs": [
        {
          "output_type": "stream",
          "text": [
            "[[ 1.00000000e+00  0.00000000e+00 -9.99200722e-17  3.00000000e+00]\n",
            " [ 0.00000000e+00  1.00000000e+00 -8.88178420e-17  2.00000000e+00]\n",
            " [ 0.00000000e+00  0.00000000e+00  1.00000000e+00  4.00000000e+00]]\n"
          ],
          "name": "stdout"
        }
      ]
    },
    {
      "cell_type": "code",
      "metadata": {
        "id": "Ghjjqcnnk0CC",
        "colab": {
          "base_uri": "https://localhost:8080/"
        },
        "outputId": "6bf66589-fe01-4ddc-923d-fbdad2dba337"
      },
      "source": [
        "#El primer y segundo valor de la tercer columna tienden a cero\r\n",
        "print(\"Consideramos que los números:\", M[0,2], \"y\", M[1,2], \"son prácticamente nulos\")\r\n",
        "S = M[:,3].reshape(3,1) \r\n",
        "print(\"Por lo que podemos decir que la solución del sistema es: \\n\",S)"
      ],
      "execution_count": 14,
      "outputs": [
        {
          "output_type": "stream",
          "text": [
            "Consideramos que los números: -9.992007221626409e-17 y -8.881784197001253e-17 son prácticamente nulos\n",
            "Por lo que podemos decir que la solución del sistema es: \n",
            " [[3.]\n",
            " [2.]\n",
            " [4.]]\n"
          ],
          "name": "stdout"
        }
      ]
    },
    {
      "cell_type": "code",
      "metadata": {
        "id": "zqoQnFn07Drn",
        "colab": {
          "base_uri": "https://localhost:8080/"
        },
        "outputId": "0aab2838-c1dd-41eb-86e9-df0b1f4244b7"
      },
      "source": [
        "#La otra forma de resolver el sistema de ecuaciones lineales es\r\n",
        "#utilzando la función scipy.linalg.solve()\r\n",
        "#Para ello debemos tener la matriz definida con los coeficientes de los términos lineales (A)\r\n",
        "#y matriz de los términos intependientes, siendo B.\r\n",
        "x_sol = la.solve(A,B)\r\n",
        "print(x_sol)"
      ],
      "execution_count": 15,
      "outputs": [
        {
          "output_type": "stream",
          "text": [
            "[[3.]\n",
            " [2.]\n",
            " [4.]]\n"
          ],
          "name": "stdout"
        }
      ]
    },
    {
      "cell_type": "markdown",
      "metadata": {
        "id": "w3HLqjUQrJMC"
      },
      "source": [
        "**Ejercicio 4** \r\n",
        "\r\n",
        "Dadas las siguientes matrices $B_1, B_2$ y $B_3$\r\n",
        " \r\n",
        "\\begin{equation*}\r\n",
        "B_1 = \\begin{bmatrix}\r\n",
        "2 & 0 & 0 \\\\\r\n",
        "0 & 3 & 4 \\\\\r\n",
        "0 & 4 & 9 \\\\\r\n",
        "\\end{bmatrix}\r\n",
        "\\end{equation*}\r\n",
        "\r\n",
        "\\begin{equation*}\r\n",
        "B_2 = \\begin{bmatrix}\r\n",
        "0 & 1 & 0 \\\\\r\n",
        "0 & 0 & 1 \\\\\r\n",
        "1 & 0 & 0 \\\\\r\n",
        "\\end{bmatrix}\r\n",
        "\\end{equation*}\r\n",
        "\r\n",
        "\\begin{equation*}\r\n",
        "B_3 = \\begin{bmatrix}\r\n",
        "2 & 0 & 0 & 0\\\\\r\n",
        "1 & 2 & 0 & 0 \\\\\r\n",
        "0 & 1 & 3 & 0 \\\\\r\n",
        "0 & 0 & 1 & 3 \\\\\r\n",
        "\\end{bmatrix}\r\n",
        "\\end{equation*}\r\n",
        "\r\n",
        "Encuentra los eigenvalores y eigenvectores de cada matriz utilizando la función de *scipy.linalg.eig()*, y contrasta tus resultados en cada caso con los que se desarrollan en los ejemplos de la Wikipedia. "
      ]
    },
    {
      "cell_type": "code",
      "metadata": {
        "id": "Yp40TLlimeB2",
        "colab": {
          "base_uri": "https://localhost:8080/"
        },
        "outputId": "7c6f8f87-ca59-40c0-99b0-78c51295df41"
      },
      "source": [
        "#Definimos a la matriz B1\r\n",
        "B1 = np.array([[2,0,0],\r\n",
        "               [0,3,4],\r\n",
        "               [0,4,9]])\r\n",
        "#Imrpimimos la Matriz B1\r\n",
        "print(\"Matriz B1\")\r\n",
        "print(B1)\r\n",
        "\r\n",
        "#Calculamos los eigenvalores y eigenvectores de la matriz B1\r\n",
        "#Esto con ayuda de la biblioteca scipy.linalg.eig()\r\n",
        "eigvalsB1, eigvecsB1 = la.eig(B1)\r\n",
        "print('Eigenvalores:\\n', eigvalsB1)\r\n",
        "\r\n",
        "#Definimos los valores de los eigenvectores (v1,v2,v3)\r\n",
        "v1 = eigvecsB1[:,0]\r\n",
        "v2 = eigvecsB1[:,1]\r\n",
        "v3 = eigvecsB1[:,2]\r\n",
        "print(\"Eigenvectores:\" )\r\n",
        "print('v1=',v1)\r\n",
        "print('v2=',v2)\r\n",
        "print('v3=',v3)"
      ],
      "execution_count": 16,
      "outputs": [
        {
          "output_type": "stream",
          "text": [
            "Matriz B1\n",
            "[[2 0 0]\n",
            " [0 3 4]\n",
            " [0 4 9]]\n",
            "Eigenvalores:\n",
            " [11.+0.j  1.+0.j  2.+0.j]\n",
            "Eigenvectores:\n",
            "v1= [0.         0.4472136  0.89442719]\n",
            "v2= [ 0.          0.89442719 -0.4472136 ]\n",
            "v3= [1. 0. 0.]\n"
          ],
          "name": "stdout"
        }
      ]
    },
    {
      "cell_type": "code",
      "metadata": {
        "id": "Bv0FOG3jzLKd",
        "colab": {
          "base_uri": "https://localhost:8080/"
        },
        "outputId": "9b29d4df-2d82-4ead-c404-cea74fe60cc3"
      },
      "source": [
        "#Definimos la matriz B2\r\n",
        "B2 = np.array([[0,1,0],\r\n",
        "               [0,0,1],\r\n",
        "               [1,0,0]])\r\n",
        "#Imrpimimos la Matriz B2\r\n",
        "print(\"Matriz B2\")\r\n",
        "print(B1)\r\n",
        "\r\n",
        "#Calculamos los eigenvalores y eigenvectores de la matriz B2\r\n",
        "#Esto con ayuda de la biblioteca scipy.linalg.eig()\r\n",
        "eigvalsB2, eigvecsB2 = la.eig(B2)\r\n",
        "print('Eigenvalores:\\n', eigvalsB2)\r\n",
        "\r\n",
        "#Definimos los valores de los eigenvectores (v1,v2,v3)\r\n",
        "v1 = eigvecsB2[:,0]\r\n",
        "v2 = eigvecsB2[:,1]\r\n",
        "v3 = eigvecsB2[:,2]\r\n",
        "print(\"Eigenvectores:\" )\r\n",
        "print('v1=',v1)\r\n",
        "print('v2=',v2)\r\n",
        "print('v3=',v3)"
      ],
      "execution_count": 17,
      "outputs": [
        {
          "output_type": "stream",
          "text": [
            "Matriz B2\n",
            "[[2 0 0]\n",
            " [0 3 4]\n",
            " [0 4 9]]\n",
            "Eigenvalores:\n",
            " [-0.5+0.8660254j -0.5-0.8660254j  1. +0.j       ]\n",
            "Eigenvectores:\n",
            "v1= [ 0.57735027+0.j  -0.28867513+0.5j -0.28867513-0.5j]\n",
            "v2= [ 0.57735027-0.j  -0.28867513-0.5j -0.28867513+0.5j]\n",
            "v3= [-0.57735027+0.j -0.57735027+0.j -0.57735027+0.j]\n"
          ],
          "name": "stdout"
        }
      ]
    },
    {
      "cell_type": "code",
      "metadata": {
        "id": "1aT_eMBLzNDA",
        "colab": {
          "base_uri": "https://localhost:8080/"
        },
        "outputId": "d7593a43-bc4b-4d3c-850b-576b994ccf80"
      },
      "source": [
        "#Definimos la matriz B3\r\n",
        "B3 = np.array([[2,0,0,0],\r\n",
        "               [1,2,0,0],\r\n",
        "               [0,1,3,0],\r\n",
        "               [0,0,1,3]])\r\n",
        "#Imrpimimos la Matriz B3\r\n",
        "print(\"Matriz B3\")\r\n",
        "print(B3)\r\n",
        "\r\n",
        "#Calculamos los eigenvalores y eigenvectores de la matriz B3\r\n",
        "#Esto con ayuda de la biblioteca scipy.linalg.eig()\r\n",
        "eigvalsB3, eigvecsB3 = la.eig(B3)\r\n",
        "print('Eigenvalores:\\n', eigvalsB3)\r\n",
        "\r\n",
        "#Definimos los valores de los eigenvectores (v1,v2,v3)\r\n",
        "v1 = eigvecsB3[:,0]\r\n",
        "v2 = eigvecsB3[:,1]\r\n",
        "v3 = eigvecsB3[:,2]\r\n",
        "v4 = eigvecsB3[:,3]\r\n",
        "print(\"Eigenvectores:\" )\r\n",
        "print('v1=',v1)\r\n",
        "print('v2=',v2)\r\n",
        "print('v3=',v3)\r\n",
        "print(\"v4=\",v4)"
      ],
      "execution_count": 18,
      "outputs": [
        {
          "output_type": "stream",
          "text": [
            "Matriz B3\n",
            "[[2 0 0 0]\n",
            " [1 2 0 0]\n",
            " [0 1 3 0]\n",
            " [0 0 1 3]]\n",
            "Eigenvalores:\n",
            " [3.+0.j 3.+0.j 2.+0.j 2.+0.j]\n",
            "Eigenvectores:\n",
            "v1= [0. 0. 0. 1.]\n",
            "v2= [ 0.00000000e+00  0.00000000e+00  6.66133815e-16 -1.00000000e+00]\n",
            "v3= [ 0.          0.57735027 -0.57735027  0.57735027]\n",
            "v4= [ 2.56395025e-16 -5.77350269e-01  5.77350269e-01 -5.77350269e-01]\n"
          ],
          "name": "stdout"
        }
      ]
    },
    {
      "cell_type": "code",
      "metadata": {
        "id": "H3YvvOHZlgOf"
      },
      "source": [
        ""
      ],
      "execution_count": null,
      "outputs": []
    },
    {
      "cell_type": "markdown",
      "metadata": {
        "id": "F8MqgDDpcXzs"
      },
      "source": [
        "`* Realizamos una comparación con los resultados que se desarrollan en wikipedia`\r\n",
        "\r\n",
        "Los resultados de wikipedia y los obtenidos si coinciden para B1, B2 Y B2. Los resultados se deben de leer de arriba hacia abajo."
      ]
    },
    {
      "cell_type": "markdown",
      "metadata": {
        "id": "qbg1oTgA0CHB"
      },
      "source": [
        "**Ejercicio 5.**\r\n",
        "Se tienen los siguientes 8 puntos: \r\n",
        "\r\n",
        "\\begin{eqnarray*} \r\n",
        "(x&,&y) \\\\\r\n",
        "(0.0 &,& 0.0), \\\\ \r\n",
        "(0.5 &,& 0.47942), \\\\ \r\n",
        "(1.0 &,& 0.84147), \\\\\r\n",
        "(1.5 &,& 0.99749), \\\\\r\n",
        "(2.0 &,& 0.90930), \\\\\r\n",
        "(2.5 &,& 0.59847), \\\\\r\n",
        "(3.0 &,& 0.14112), \\\\\r\n",
        "(3.5 &,& -0.35078) \\\\\r\n",
        "\\end{eqnarray*}\r\n",
        "\r\n",
        "Encuentre un polinomio interpolante $p(x)$ que pase por los 8 puntos. \r\n",
        "\r\n",
        "Sobreponga la función $y=\\sin(x)$ y contrástela con el polinomio $p(x)$."
      ]
    },
    {
      "cell_type": "code",
      "metadata": {
        "id": "-zKHuETz0AZK",
        "colab": {
          "base_uri": "https://localhost:8080/",
          "height": 295
        },
        "outputId": "1b726c35-f13b-4461-f7dd-9f552da33ca9"
      },
      "source": [
        "#Declaramos las componentes x y y de los 8 puntos de interés\r\n",
        "\r\n",
        "x=np.array([0.0,0.5,1.0,1.5,2.0,2.5,3.0,3.5]).reshape(8,1)\r\n",
        "\r\n",
        "y=np.array([0.0,0.47942,0.84147,0.99749,0.90930,0.59847,0.14112,-0.35078]).reshape(8,1)\r\n",
        "\r\n",
        "n=9\r\n",
        "X = np.column_stack([x**k for k in range(0,n-1)])\r\n",
        "\r\n",
        "#Encontramos los 8 coeficientes de la ec. lineal Xa = y\r\n",
        "#Esto con ayuda de la función scipy.linalg.solve()\r\n",
        "R = la.solve(X,y)\r\n",
        "R.shape\r\n",
        "\r\n",
        "#Graficamos el polinomio interpolante y los puntos interpolados\r\n",
        "#Los puntos interpolados en rojo ('r.')\r\n",
        "xs = np.linspace(-2,7,200)\r\n",
        "ys = sum([R[k]*xs**k for k in range(0,8)])\r\n",
        "ysin=np.sin(xs)\r\n",
        "\r\n",
        "plt.plot(x,y,'red',label='datos')\r\n",
        "plt.plot(xs,ys,'orange', label='Polinomio')\r\n",
        "plt.plot(xs,ysin,'pink',label='Función seno')\r\n",
        "plt.title('Polinomio de interpolación de los datos')\r\n",
        "plt.xlabel('x')\r\n",
        "plt.ylabel('y')\r\n",
        "plt.legend()\r\n",
        "plt.show()"
      ],
      "execution_count": 19,
      "outputs": [
        {
          "output_type": "display_data",
          "data": {
            "image/png": "[encoded data removed]",
            "text/plain": [
              "<Figure size 432x288 with 1 Axes>"
            ]
          },
          "metadata": {
            "tags": [],
            "needs_background": "light"
          }
        }
      ]
    },
    {
      "cell_type": "markdown",
      "metadata": {
        "id": "-wVdyk7j5pR8"
      },
      "source": [
        "**Ejercicio 6.** \r\n",
        "Regrese a su modelo de análisis de series de tiempo. Haga una descomposición de su serie de tiempo de las temperaturas (Tmax y Tmin), y realice una regresión lineal sobre la serie de Tendencia de Temp $(T = a_0 + a_1 t)$. Encuentre si la pendiente es positiva o negativa de la tendencia (signo de $a_1$), es decir si las Temperaturas (Tmax, Tmin) están subiendo o bajando en el periodo analizado.\r\n",
        "\r\n",
        "**NOTA:** Pueden trabajar en sus Notebooks de la Actividad 5 o 6 y hacer el ajuste de regresión lineal allá donde tienen todo cargado en la memoria y luego copiar unas celdas de texto de esa Notebook y agregarlas al final de su Notebook de la Actividad 7. Así no tienen que cargar a la memoria todas las operaciones. "
      ]
    },
    {
      "cell_type": "code",
      "metadata": {
        "id": "3Y9hIZRH5mNE",
        "colab": {
          "base_uri": "https://localhost:8080/"
        },
        "outputId": "b68cce36-0ff2-4390-bf1b-36c4a0464a34"
      },
      "source": [
        "#Importamos como csv la información de interés sobre la descomposición de la serie de tiempo\r\n",
        "url1 = 'https://raw.githubusercontent.com/elizabethtorrest/Fisica-Computacional/F%C3%ADsica-Computacional/Actividad7/trendTmax.csv'\r\n",
        "url2 = 'https://raw.githubusercontent.com/elizabethtorrest/Fisica-Computacional/F%C3%ADsica-Computacional/Actividad7/trendTmin.csv'\r\n",
        "\r\n",
        "trTmax = pd.read_csv(url1, sep=',', encoding='cp1251', engine='python')\r\n",
        "trTmin = pd.read_csv(url2, sep=',', encoding='cp1251', engine='python')\r\n",
        "\r\n",
        "trTmax['Fecha']=pd.to_datetime(trTmax['Fecha']).copy()\r\n",
        "trTmin['Fecha']=pd.to_datetime(trTmin['Fecha']).copy()\r\n",
        "\r\n",
        "trTmax=trTmax.set_index('Fecha')\r\n",
        "trTmin=trTmin.set_index('Fecha')\r\n",
        "\r\n",
        "trTmax['fec_dec']=trTmax.index.year+(trTmax.index.dayofyear)/365\r\n",
        "trTmin['fec_dec']=trTmin.index.year+(trTmin.index.dayofyear)/365\r\n",
        "\r\n",
        "ar_trTmax=np.array([trTmax['Tmax']])\r\n",
        "ar_trTmin=np.array([trTmin['Tmin']])\r\n",
        "print(ar_trTmax.shape)\r\n",
        "print(ar_trTmin.shape)\r\n",
        "\r\n",
        "\r\n",
        "ar_trTmax=ar_trTmax.reshape(4656,1)\r\n",
        "ar_trTmin=ar_trTmin.reshape(4656,1)\r\n",
        "\r\n",
        "ar_trTmax_date=np.array([trTmax['fec_dec']]).reshape(4656,1)\r\n",
        "ar_trTmin_date=np.array([trTmin['fec_dec']]).reshape(4656,1)\r\n",
        "\r\n",
        "print(ar_trTmax,'\\n')\r\n",
        "print(ar_trTmax_date)\r\n"
      ],
      "execution_count": 20,
      "outputs": [
        {
          "output_type": "stream",
          "text": [
            "(1, 4656)\n",
            "(1, 4656)\n",
            "[[28.78110715]\n",
            " [28.78290111]\n",
            " [28.78479264]\n",
            " ...\n",
            " [28.9103235 ]\n",
            " [28.91588328]\n",
            " [28.92155643]] \n",
            "\n",
            "[[1993.50136986]\n",
            " [1993.50410959]\n",
            " [1993.50684932]\n",
            " ...\n",
            " [2007.24657534]\n",
            " [2007.24931507]\n",
            " [2007.25205479]]\n"
          ],
          "name": "stdout"
        }
      ]
    },
    {
      "cell_type": "code",
      "metadata": {
        "id": "wpg_KLl4YcM4",
        "colab": {
          "base_uri": "https://localhost:8080/",
          "height": 327
        },
        "outputId": "c798ed72-9db2-40bc-c635-b19736448d42"
      },
      "source": [
        "#Regresión lineal \r\n",
        "\r\n",
        "#Datos de tendencia \r\n",
        "##TEMPERATURA MÁXIMA\r\n",
        "\r\n",
        "d_4656=np.array([1 for a in range(1,4657)]).reshape(4656,1)\r\n",
        "X=np.hstack([d_4656,ar_trTmax_date])\r\n",
        "a=la.solve(X.T @ X, X.T @ ar_trTmax)\r\n",
        "\r\n",
        "xs=np.linspace(1994,2008,6000)\r\n",
        "ys=a[0]+a[1]*xs\r\n",
        "\r\n",
        "plt.plot(ar_trTmax_date, ar_trTmax, 'k.', label='Datos')\r\n",
        "plt.plot(xs, ys, 'violet', label='Regresión lineal')\r\n",
        "plt.title('Gráfica de tendencia de Temperaturas Máximas')\r\n",
        "plt.xlabel('Años')\r\n",
        "plt.ylabel('Temperatura (°C)')\r\n",
        "plt.legend()\r\n",
        "plt.show()\r\n",
        "#Notamos que la pendiente es positiva, por lo que la tempertura máxima parece aumentar respecto al tiempo.\r\n",
        "#Siendo un poco más observadores, a pesar de que esta es positiva, la pendiente es muy pequeña, por lo que realmente nos dice que la temperatura máxima no ha variado de manera significativa a través del tiempo analizado.\r\n",
        "print('Pendiente de la recta de regresión lineal de los datos es:\\n', a[1])"
      ],
      "execution_count": 21,
      "outputs": [
        {
          "output_type": "display_data",
          "data": {
            "image/png": "[encoded data removed]",
            "text/plain": [
              "<Figure size 432x288 with 1 Axes>"
            ]
          },
          "metadata": {
            "tags": [],
            "needs_background": "light"
          }
        },
        {
          "output_type": "stream",
          "text": [
            "Pendiente de la recta de regresión lineal de los datos es:\n",
            " [0.0167264]\n"
          ],
          "name": "stdout"
        }
      ]
    },
    {
      "cell_type": "code",
      "metadata": {
        "id": "lSM_qZK0TZJ6",
        "colab": {
          "base_uri": "https://localhost:8080/",
          "height": 327
        },
        "outputId": "4d29399b-2079-41fd-b378-2be41ad6fe91"
      },
      "source": [
        "#Regresión lineal \r\n",
        "\r\n",
        "#Datos de tendencia \r\n",
        "##TEMPERATURA MÍNIMA\r\n",
        "\r\n",
        "X1=np.hstack([d_4656,ar_trTmin_date])\r\n",
        "a1=la.solve(X1.T @ X1, X1.T @ ar_trTmin)\r\n",
        "\r\n",
        "xs=np.linspace(1994,2008,6000)\r\n",
        "ys=a1[0]+a1[1]*xs\r\n",
        "\r\n",
        "plt.plot(ar_trTmin_date, ar_trTmin, 'k.', label='Datos')\r\n",
        "plt.plot(xs, ys, 'violet', label='Regresión lineal')\r\n",
        "plt.title('Gráfica de tendencia de Temperaturas Mínimas')\r\n",
        "plt.xlabel('Años')\r\n",
        "plt.ylabel('Temperatura (°C)')\r\n",
        "plt.legend()\r\n",
        "plt.show()\r\n",
        "#Notamos que la pendiente es negativa, por lo que la tempertura mínima parece decrecer respecto al tiempo analizado.\r\n",
        "print('Pendiente de la recta de Regresión Lineal de los datos:\\n',a1[1])"
      ],
      "execution_count": 22,
      "outputs": [
        {
          "output_type": "display_data",
          "data": {
            "image/png": "[encoded data removed]",
            "text/plain": [
              "<Figure size 432x288 with 1 Axes>"
            ]
          },
          "metadata": {
            "tags": [],
            "needs_background": "light"
          }
        },
        {
          "output_type": "stream",
          "text": [
            "Pendiente de la recta de Regresión Lineal de los datos:\n",
            " [-0.12163487]\n"
          ],
          "name": "stdout"
        }
      ]
    }
  ]
}