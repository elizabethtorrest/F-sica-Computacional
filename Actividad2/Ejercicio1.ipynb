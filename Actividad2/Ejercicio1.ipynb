{
  "nbformat": 4,
  "nbformat_minor": 0,
  "metadata": {
    "colab": {
      "name": "Ejercicio1.ipynb",
      "provenance": []
    },
    "kernelspec": {
      "name": "python3",
      "display_name": "Python 3"
    }
  },
  "cells": [
    {
      "cell_type": "markdown",
      "metadata": {
        "id": "xq9RLm9c-qGR"
      },
      "source": [
        "*Elizabeth Torres Torrecillas*\r\n",
        "\r\n",
        "---\r\n"
      ]
    },
    {
      "cell_type": "markdown",
      "metadata": {
        "id": "o-Syr4nK34LI"
      },
      "source": [
        "### *Ejercicio 1*"
      ]
    },
    {
      "cell_type": "markdown",
      "metadata": {
        "id": "04ieCRug_4IE"
      },
      "source": [
        "# **En este ejercicio se tiene como objetivo el calcular una propiedad, ya sea el área o el volumen, de 4 figuras geométricas seleccionadas. Estas características se calcularán a partir de los datos proporcionados por el usuario.**\r\n",
        "\r\n",
        "> Las propiedades de las figuras geométricas mencionadas anteriormente son la siguientes:\r\n",
        "\r\n",
        "1.   *Área del círculo*\r\n",
        "2.   *Área de la elipse*\r\n",
        "3.   *Volumen de una esfera*\r\n",
        "4.   *Volumen de un cilindro circular*\r\n",
        "\r\n"
      ]
    },
    {
      "cell_type": "code",
      "metadata": {
        "id": "FmmKuD8c3_mt"
      },
      "source": [
        "#Bibliotecas a utilizar\r\n",
        "import numpy as np"
      ],
      "execution_count": null,
      "outputs": []
    },
    {
      "cell_type": "markdown",
      "metadata": {
        "id": "iOPbqikeLjH2"
      },
      "source": [
        "\r\n",
        "**El presente programa tiene como fin el calcular el área de el círculo, con base en la ecuación que lo modela y correspondiente a los datos proporcionados por el usuario.**\r\n",
        "\r\n",
        " *   *Área del círculo*\r\n",
        "\r\n",
        "\r\n",
        "> $$a_c=\\pi*r^2 $$\r\n",
        "\r\n",
        "> *`donde r corresponde al radio del círculo`*\r\n",
        "\r\n"
      ]
    },
    {
      "cell_type": "code",
      "metadata": {
        "colab": {
          "base_uri": "https://localhost:8080/"
        },
        "id": "wsG39sR9LkyJ",
        "outputId": "7c1c8a37-cc99-4b34-8c84-9d72cc40f258"
      },
      "source": [
        "print(\"Calculamos el área de un círculo\")\r\n",
        "#Se define la función de 1 variable para calcular el área del círculo\r\n",
        "def area(x):\r\n",
        "  return (np.pi)*x**2\r\n",
        "print(\"Introduzca el valor del radio del círculo:\", end=\"\")\r\n",
        "#r es la variable que almacenará como número real a la información del valor del radio dada por el usuario\r\n",
        "r=float(input())\r\n",
        "#Le asignamos la variable a, quien almacenará el resultado de la operación del área del círculo\r\n",
        "a=area(r)\r\n",
        "#Imprimimos el valor del área del círuclo con 2 decimales. \r\n",
        "print(\"\\nArea = {:.2f}\".format(a))\r\n"
      ],
      "execution_count": null,
      "outputs": [
        {
          "output_type": "stream",
          "text": [
            "Calculamos el área de un círculo\n",
            "Introduzca el valor del radio del círculo:5\n",
            "\n",
            "Area = 78.54\n"
          ],
          "name": "stdout"
        }
      ]
    },
    {
      "cell_type": "markdown",
      "metadata": {
        "id": "96w1Zy-kLtmR"
      },
      "source": [
        "**El presente programa tiene como fin el calcular el área de una elipse, con base en la ecuación que la modela y correspondiente a los datos proporcionados por el usuario.**\r\n",
        "\r\n",
        "*   *Área de la elipse*\r\n",
        "\r\n",
        "\r\n",
        "> $$a_e=\\pi*a*b $$\r\n",
        "\r\n",
        "> *`donde a corresponde al radio mayor y b al radio menor de la elipse`*\r\n",
        "\r\n"
      ]
    },
    {
      "cell_type": "code",
      "metadata": {
        "colab": {
          "base_uri": "https://localhost:8080/"
        },
        "id": "SPx_4E_-5ndy",
        "outputId": "ad9ec250-e2e3-4100-e9bc-336894e13ee9"
      },
      "source": [
        "print(\"Calculamos el área de una elipse\")\r\n",
        "#Se define la función de 2 variables para calcular el área de la elipse\r\n",
        "def area(x,y):\r\n",
        "  return (np.pi)*x*y\r\n",
        "print(\"Introduzca el valor del radio mayor:\", end=\"\")\r\n",
        "#a es la variable que almacenará como número real a la información del valor del radio mayor dado por el usuario\r\n",
        "a=float(input())\r\n",
        "print(\"Introduzca el valor del radio menor:\", end=\"\")\r\n",
        "#b es la variable que almacenará como número real a la información del valor del radio menor dado por el usuario\r\n",
        "b=float(input())\r\n",
        "#Le asignamos la variable ae, quien almacenará el resultado de la operación del área de la elipse\r\n",
        "ae=area(a,b)\r\n",
        "#Imprimimos el valor del área de la elipse con 2 decimales. \r\n",
        "print(\"\\nArea = {:.2f}\".format(ae))"
      ],
      "execution_count": null,
      "outputs": [
        {
          "output_type": "stream",
          "text": [
            "Calculamos el área de una elipse\n",
            "Introduzca el valor del radio mayor:"
          ],
          "name": "stdout"
        }
      ]
    },
    {
      "cell_type": "markdown",
      "metadata": {
        "id": "Jv-NRY2ELvCh"
      },
      "source": [
        "**El presente programa tiene como fin el calcular el volumen de una esfera, con base en la ecuación que la modela y correspondiente a los datos proporcionados por el usuario.**\r\n",
        "\r\n",
        "* *Volumen de una esfera*\r\n",
        "\r\n",
        "\r\n",
        "> $$v_e=\\frac{4}{3}\\pi*r^3 $$\r\n",
        "\r\n",
        "> *`donde r corresponde al radio de la esfera`*\r\n"
      ]
    },
    {
      "cell_type": "code",
      "metadata": {
        "colab": {
          "base_uri": "https://localhost:8080/"
        },
        "id": "l6I5nubIHmxQ",
        "outputId": "a2ba7175-b950-442b-8c68-ce8110eede86"
      },
      "source": [
        "135print(\"Calculamos el volumen de una esfera\")\r\n",
        "#Se define la función de 1 variable para calcular el volumen de una esfera\r\n",
        "def volumen(x):\r\n",
        "  return 4/3*(np.pi)*x**3\r\n",
        "print(\"Introduzca el valor del radio de la esfera:\", end=\"\")\r\n",
        "#r es la variable que almacenará como número real a la información del valor del radio dada por el usuario\r\n",
        "r=float(input())\r\n",
        "#Le asignamos la variable ve, quien almacenará el resultado de la operación del volumen de la esfera\r\n",
        "ve=volumen(r)\r\n",
        "#Imprimimos el valor del volumen de la esfera con 2 decimales. \r\n",
        "print(\"\\nVolumen = {:.2f}\".format(ve))"
      ],
      "execution_count": null,
      "outputs": [
        {
          "output_type": "stream",
          "text": [
            "Calculamos el volumen de una esfera\n",
            "Introduzca el valor del radio de la esfera:5\n",
            "\n",
            "Volumen = 523.60\n"
          ],
          "name": "stdout"
        }
      ]
    },
    {
      "cell_type": "markdown",
      "metadata": {
        "id": "xphuzav1Lvs3"
      },
      "source": [
        "**El presente programa tiene como fin el calcular el volumen de un cilindro circular, con base en la ecuación que lo modela y correspondiente a los datos proporcionados por el usuario.**\r\n",
        "\r\n",
        "*   *Volumen de un cilindro circular*\r\n",
        "\r\n",
        "\r\n",
        "> $$v_c=\\pi*r^2*h $$\r\n",
        "\r\n",
        "> *`donde r corresponde al radio del círculo y h a la altura del cilindro`*\r\n"
      ]
    },
    {
      "cell_type": "code",
      "metadata": {
        "colab": {
          "base_uri": "https://localhost:8080/"
        },
        "id": "95_LMNWnIdtb",
        "outputId": "d8db6fb0-329c-4531-b2c4-0613924b0db4"
      },
      "source": [
        "print(\"Calculamos el volumen de una cilindro circular\")\r\n",
        "#Se define la función de 2 variables para calcular el volumen de un cilindro circular\r\n",
        "def volumen(x,y):\r\n",
        "  return (np.pi)*x**2*h\r\n",
        "print(\"Introduzca el valor del radio de la círculo:\", end=\"\")\r\n",
        "#r es la variable que almacenará como número real a la información del valor del radio dada por el usuario\r\n",
        "r=float(input())\r\n",
        "print(\"Introduzca el valor de la altura del cilindro:\", end=\"\")\r\n",
        "h=float(input())\r\n",
        "#Le asignamos la variable ve, quien almacenará el resultado de la operación del volumen de la esfera\r\n",
        "vc=volumen(r,h)\r\n",
        "#Imprimimos el valor del volumen de la esfera con 2 decimales. \r\n",
        "print(\"\\nVolumen = {:.2f}\".format(vc))"
      ],
      "execution_count": null,
      "outputs": [
        {
          "output_type": "stream",
          "text": [
            "Calculamos el volumen de una cilindro circular\n",
            "Introduzca el valor del radio de la círculo:5\n",
            "Introduzca el valor de la altura del cilindro:2\n",
            "\n",
            "Volumen = 157.08\n"
          ],
          "name": "stdout"
        }
      ]
    },
    {
      "cell_type": "code",
      "metadata": {
        "id": "IVOGtgSiKnhw"
      },
      "source": [
        ""
      ],
      "execution_count": null,
      "outputs": []
    }
  ]
}