{
  "nbformat": 4,
  "nbformat_minor": 0,
  "metadata": {
    "colab": {
      "name": "Ejercicio2.ipynb",
      "provenance": []
    },
    "kernelspec": {
      "name": "python3",
      "display_name": "Python 3"
    }
  },
  "cells": [
    {
      "cell_type": "markdown",
      "metadata": {
        "id": "N0iVDcxeYsXL"
      },
      "source": [
        "### *Ejercicio 2*"
      ]
    },
    {
      "cell_type": "markdown",
      "metadata": {
        "id": "zS-TYGgpYyVQ"
      },
      "source": [
        "# **En este ejercicio se tiene como objetivo el calcular las raíces reales de una función cuadrática, correspondiendo esta a los datos proporcionados por el usuario.**\r\n",
        "\r\n",
        "> Las raíces de dicha función cuadrática serán determinadas a partir de la fórmula general, siendo esta de la forma:\r\n",
        "\r\n",
        "\r\n",
        "> $$x_1= \\frac {-b +\\sqrt {b^2 - 4ac}}{2a}$$\r\n",
        "\r\n",
        "> $$x_2 =\\frac {-b - \\sqrt {b^2 - 4ac}}{2a}$$\r\n",
        "\r\n",
        "\r\n",
        "\r\n",
        "```\r\n",
        "Donde:\r\n",
        "*   a es el coeficiente del término cuadrático\r\n",
        "*   b es el coeficiente del término lineal \r\n",
        "*   b es el coeficiente del término independiente\r\n",
        "\r\n",
        "```\r\n"
      ]
    },
    {
      "cell_type": "code",
      "metadata": {
        "id": "DMpcRFFLb8JM"
      },
      "source": [
        "#Bibliotecas a utilizar\r\n",
        "import numpy as np"
      ],
      "execution_count": 1,
      "outputs": []
    },
    {
      "cell_type": "code",
      "metadata": {
        "colab": {
          "base_uri": "https://localhost:8080/"
        },
        "id": "SiQrvOwvcHGM",
        "outputId": "f5e5bb89-4df5-45e7-b171-eebd0d17b31b"
      },
      "source": [
        "print(\"Calculamos las raíces de una función cuadrática a partir de la fórmula general\") \r\n",
        "#solicitamos las características de la función cuadrática a la cual se le desean determinar las raíces.\r\n",
        "print(\"Introduzca el coeficiente del término cuadrático\")\r\n",
        "a=float(input())\r\n",
        "print(\"Introduzca el coeficiente del término lineal\")\r\n",
        "b=float(input())\r\n",
        "print(\"Introduzca el coeficiente del término independiente\")\r\n",
        "c=float(input())\r\n",
        "#les damos el valor inicial de 0 a x1 y x2\r\n",
        "x1=0\r\n",
        "x2=0\r\n",
        "x=0\r\n",
        "#iniciamos por condicionar lo que ocurre cuando el término dentro de la raíz es menor a 0\r\n",
        "if ((b**2)-4*a*c) < 0:\r\n",
        "  print(\"Las raíces de la función son complejas\")\r\n",
        "else:\r\n",
        "#condicionamos lo que ocurre cuando el término dentro de la raíz es mayor a 0\r\n",
        "  x1 = (-b+np.sqrt(b**2-(4*a*c)))/(2*a)  \r\n",
        "  x2 = (-b-np.sqrt(b**2-(4*a*c)))/(2*a)  \r\n",
        "  print(\"La raíz real x1 es: {:.2f}\".format(x1))\r\n",
        "  print(\"La raíz real x1 es: {:.2f}\".format(x2))\r\n"
      ],
      "execution_count": 18,
      "outputs": [
        {
          "output_type": "stream",
          "text": [
            "Calculamos las raíces de una función cuadrática a partir de la fórmula general\n",
            "Introduzca el coeficiente del término cuadrático\n",
            "1\n",
            "Introduzca el coeficiente del término lineal\n",
            "0\n",
            "Introduzca el coeficiente del término independiente\n",
            "1\n",
            "Las raíces de la función son complejas\n"
          ],
          "name": "stdout"
        }
      ]
    },
    {
      "cell_type": "code",
      "metadata": {
        "id": "jb3Cr0elk3L4"
      },
      "source": [
        ""
      ],
      "execution_count": null,
      "outputs": []
    }
  ]
}