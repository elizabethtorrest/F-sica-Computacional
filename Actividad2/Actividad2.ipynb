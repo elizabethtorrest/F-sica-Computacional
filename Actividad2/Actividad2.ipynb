{
  "nbformat": 4,
  "nbformat_minor": 0,
  "metadata": {
    "colab": {
      "name": "Actividad2.ipynb",
      "provenance": [],
      "collapsed_sections": []
    },
    "kernelspec": {
      "name": "python3",
      "display_name": "Python 3"
    }
  },
  "cells": [
    {
      "cell_type": "markdown",
      "metadata": {
        "id": "UR9zhyo_-oVV"
      },
      "source": [
        "##*Elizabeth Torres Torrecillas* \r\n",
        "\r\n",
        "\r\n"
      ]
    },
    {
      "cell_type": "markdown",
      "metadata": {
        "id": "B__S2EG69u-u"
      },
      "source": [
        "# *Actividad 2*"
      ]
    },
    {
      "cell_type": "markdown",
      "metadata": {
        "id": "L8Zkn8n5-iBC"
      },
      "source": [
        "\r\n",
        "\r\n",
        "---\r\n",
        "\r\n",
        "---\r\n",
        "\r\n",
        "\r\n",
        "\r\n"
      ]
    },
    {
      "cell_type": "markdown",
      "metadata": {
        "id": "o-Syr4nK34LI"
      },
      "source": [
        "### *Ejercicio 1*\r\n",
        "\r\n"
      ]
    },
    {
      "cell_type": "markdown",
      "metadata": {
        "id": "04ieCRug_4IE"
      },
      "source": [
        "#### **En este ejercicio se tiene como objetivo el calcular una propiedad, ya sea el área o el volumen, de 4 figuras geométricas seleccionadas. Estas características se calcularán a partir de los datos proporcionados por el usuario.**\r\n",
        "\r\n",
        "> Las propiedades de las figuras geométricas mencionadas anteriormente son la siguientes:\r\n",
        "\r\n",
        "1.   *Área del círculo*\r\n",
        "2.   *Área de la elipse*\r\n",
        "3.   *Volumen de una esfera*\r\n",
        "4.   *Volumen de un cilindro circular*\r\n",
        "\r\n"
      ]
    },
    {
      "cell_type": "code",
      "metadata": {
        "id": "FmmKuD8c3_mt"
      },
      "source": [
        "#Bibliotecas a utilizar\r\n",
        "import numpy as np\r\n",
        "#Subiblioteca pytlot de Matplotlib \r\n",
        "import matplotlib.pyplot as plt"
      ],
      "execution_count": 72,
      "outputs": []
    },
    {
      "cell_type": "markdown",
      "metadata": {
        "id": "iOPbqikeLjH2"
      },
      "source": [
        "\r\n",
        "**El presente programa tiene como fin el calcular el área de el círculo, con base en la ecuación que lo modela y correspondiente a los datos proporcionados por el usuario.**\r\n",
        "\r\n",
        " *   *Área del círculo*\r\n",
        "\r\n",
        "\r\n",
        "> $$a_c=\\pi*r^2 $$\r\n",
        "\r\n",
        "> *`donde r corresponde al radio del círculo`*\r\n",
        "\r\n"
      ]
    },
    {
      "cell_type": "code",
      "metadata": {
        "colab": {
          "base_uri": "https://localhost:8080/"
        },
        "id": "wsG39sR9LkyJ",
        "outputId": "7c1c8a37-cc99-4b34-8c84-9d72cc40f258"
      },
      "source": [
        "print(\"Calculamos el área de un círculo\")\r\n",
        "#Se define la función de 1 variable para calcular el área del círculo\r\n",
        "def area(x):\r\n",
        "  return (np.pi)*x**2\r\n",
        "print(\"Introduzca el valor del radio del círculo:\", end=\"\")\r\n",
        "#r es la variable que almacenará como número real a la información del valor del radio dada por el usuario\r\n",
        "r=float(input())\r\n",
        "#Le asignamos la variable a, quien almacenará el resultado de la operación del área del círculo\r\n",
        "a=area(r)\r\n",
        "#Imprimimos el valor del área del círuclo con 2 decimales. \r\n",
        "print(\"\\nArea = {:.2f}\".format(a))\r\n"
      ],
      "execution_count": null,
      "outputs": [
        {
          "output_type": "stream",
          "text": [
            "Calculamos el área de un círculo\n",
            "Introduzca el valor del radio del círculo:5\n",
            "\n",
            "Area = 78.54\n"
          ],
          "name": "stdout"
        }
      ]
    },
    {
      "cell_type": "markdown",
      "metadata": {
        "id": "96w1Zy-kLtmR"
      },
      "source": [
        "**El presente programa tiene como fin el calcular el área de una elipse, con base en la ecuación que la modela y correspondiente a los datos proporcionados por el usuario.**\r\n",
        "\r\n",
        "*   *Área de la elipse*\r\n",
        "\r\n",
        "\r\n",
        "> $$a_e=\\pi*a*b $$\r\n",
        "\r\n",
        "> *`donde a corresponde al radio mayor y b al radio menor de la elipse`*\r\n",
        "\r\n"
      ]
    },
    {
      "cell_type": "code",
      "metadata": {
        "colab": {
          "base_uri": "https://localhost:8080/"
        },
        "id": "SPx_4E_-5ndy",
        "outputId": "ad9ec250-e2e3-4100-e9bc-336894e13ee9"
      },
      "source": [
        "print(\"Calculamos el área de una elipse\")\r\n",
        "#Se define la función de 2 variables para calcular el área de la elipse\r\n",
        "def area(x,y):\r\n",
        "  return (np.pi)*x*y\r\n",
        "print(\"Introduzca el valor del radio mayor:\", end=\"\")\r\n",
        "#a es la variable que almacenará como número real a la información del valor del radio mayor dado por el usuario\r\n",
        "a=float(input())\r\n",
        "print(\"Introduzca el valor del radio menor:\", end=\"\")\r\n",
        "#b es la variable que almacenará como número real a la información del valor del radio menor dado por el usuario\r\n",
        "b=float(input())\r\n",
        "#Le asignamos la variable ae, quien almacenará el resultado de la operación del área de la elipse\r\n",
        "ae=area(a,b)\r\n",
        "#Imprimimos el valor del área de la elipse con 2 decimales. \r\n",
        "print(\"\\nArea = {:.2f}\".format(ae))"
      ],
      "execution_count": null,
      "outputs": [
        {
          "output_type": "stream",
          "text": [
            "Calculamos el área de una elipse\n",
            "Introduzca el valor del radio mayor:"
          ],
          "name": "stdout"
        }
      ]
    },
    {
      "cell_type": "markdown",
      "metadata": {
        "id": "Jv-NRY2ELvCh"
      },
      "source": [
        "**El presente programa tiene como fin el calcular el volumen de una esfera, con base en la ecuación que la modela y correspondiente a los datos proporcionados por el usuario.**\r\n",
        "\r\n",
        "* *Volumen de una esfera*\r\n",
        "\r\n",
        "\r\n",
        "> $$v_e=\\frac{4}{3}\\pi*r^3 $$\r\n",
        "\r\n",
        "> *`donde r corresponde al radio de la esfera`*\r\n"
      ]
    },
    {
      "cell_type": "code",
      "metadata": {
        "colab": {
          "base_uri": "https://localhost:8080/"
        },
        "id": "l6I5nubIHmxQ",
        "outputId": "a2ba7175-b950-442b-8c68-ce8110eede86"
      },
      "source": [
        "print(\"Calculamos el volumen de una esfera\")\r\n",
        "#Se define la función de 1 variable para calcular el volumen de una esfera\r\n",
        "def volumen(x):\r\n",
        "  return 4/3*(np.pi)*x**3\r\n",
        "print(\"Introduzca el valor del radio de la esfera:\", end=\"\")\r\n",
        "#r es la variable que almacenará como número real a la información del valor del radio dada por el usuario\r\n",
        "r=float(input())\r\n",
        "#Le asignamos la variable ve, quien almacenará el resultado de la operación del volumen de la esfera\r\n",
        "ve=volumen(r)\r\n",
        "#Imprimimos el valor del volumen de la esfera con 2 decimales. \r\n",
        "print(\"\\nVolumen = {:.2f}\".format(ve))"
      ],
      "execution_count": null,
      "outputs": [
        {
          "output_type": "stream",
          "text": [
            "Calculamos el volumen de una esfera\n",
            "Introduzca el valor del radio de la esfera:5\n",
            "\n",
            "Volumen = 523.60\n"
          ],
          "name": "stdout"
        }
      ]
    },
    {
      "cell_type": "markdown",
      "metadata": {
        "id": "xphuzav1Lvs3"
      },
      "source": [
        "**El presente programa tiene como fin el calcular el volumen de un cilindro circular, con base en la ecuación que lo modela y correspondiente a los datos proporcionados por el usuario.**\r\n",
        "\r\n",
        "*   *Volumen de un cilindro circular*\r\n",
        "\r\n",
        "\r\n",
        "> $$v_c=\\pi*r^2*h $$\r\n",
        "\r\n",
        "> *`donde r corresponde al radio del círculo y h a la altura del cilindro`*\r\n"
      ]
    },
    {
      "cell_type": "code",
      "metadata": {
        "colab": {
          "base_uri": "https://localhost:8080/"
        },
        "id": "95_LMNWnIdtb",
        "outputId": "d8db6fb0-329c-4531-b2c4-0613924b0db4"
      },
      "source": [
        "print(\"Calculamos el volumen de una cilindro circular\")\r\n",
        "#Se define la función de 2 variables para calcular el volumen de un cilindro circular\r\n",
        "def volumen(x,y):\r\n",
        "  return (np.pi)*x**2*h\r\n",
        "print(\"Introduzca el valor del radio de la círculo:\", end=\"\")\r\n",
        "#r es la variable que almacenará como número real a la información del valor del radio dada por el usuario\r\n",
        "r=float(input())\r\n",
        "print(\"Introduzca el valor de la altura del cilindro:\", end=\"\")\r\n",
        "h=float(input())\r\n",
        "#Le asignamos la variable ve, quien almacenará el resultado de la operación del volumen de la esfera\r\n",
        "vc=volumen(r,h)\r\n",
        "#Imprimimos el valor del volumen de la esfera con 2 decimales. \r\n",
        "print(\"\\nVolumen = {:.2f}\".format(vc))"
      ],
      "execution_count": null,
      "outputs": [
        {
          "output_type": "stream",
          "text": [
            "Calculamos el volumen de una cilindro circular\n",
            "Introduzca el valor del radio de la círculo:5\n",
            "Introduzca el valor de la altura del cilindro:2\n",
            "\n",
            "Volumen = 157.08\n"
          ],
          "name": "stdout"
        }
      ]
    },
    {
      "cell_type": "markdown",
      "metadata": {
        "id": "HS74oISs-naF"
      },
      "source": [
        "\r\n",
        "\r\n",
        "---\r\n",
        "\r\n",
        "---\r\n",
        "\r\n",
        "\r\n",
        "\r\n"
      ]
    },
    {
      "cell_type": "markdown",
      "metadata": {
        "id": "URjLkBzQ-IMC"
      },
      "source": [
        "### *Ejercicio 2* "
      ]
    },
    {
      "cell_type": "markdown",
      "metadata": {
        "id": "Oxuo1sor-VZ8"
      },
      "source": [
        "#### **En este ejercicio se tiene como objetivo el calcular las raíces reales de una función cuadrática, correspondiendo esta a los datos proporcionados por el usuario.**\r\n",
        "\r\n",
        "> Las raíces de dicha función cuadrática serán determinadas a partir de la fórmula general, siendo esta de la forma:\r\n",
        "\r\n",
        "\r\n",
        "> $$x_1= \\frac {-b +\\sqrt {b^2 - 4ac}}{2a}$$\r\n",
        "\r\n",
        "> $$x_2 =\\frac {-b - \\sqrt {b^2 - 4ac}}{2a}$$\r\n",
        "\r\n",
        "\r\n",
        "\r\n",
        "```\r\n",
        "Donde:\r\n",
        "*   a es el coeficiente del término cuadrático\r\n",
        "*   b es el coeficiente del término lineal \r\n",
        "*   c es el coeficiente del término independiente\r\n",
        "\r\n",
        "```"
      ]
    },
    {
      "cell_type": "code",
      "metadata": {
        "colab": {
          "base_uri": "https://localhost:8080/"
        },
        "id": "WxGTUIDZ-vwd",
        "outputId": "34f1ee6f-b32e-4cc3-ac94-2749282de808"
      },
      "source": [
        "print(\"Calculamos las raíces de una función cuadrática a partir de la fórmula general\") \r\n",
        "#solicitamos las características de la función cuadrática a la cual se le desean determinar las raíces.\r\n",
        "print(\"Introduzca el coeficiente del término cuadrático\")\r\n",
        "a=float(input())\r\n",
        "print(\"Introduzca el coeficiente del término lineal\")\r\n",
        "b=float(input())\r\n",
        "print(\"Introduzca el coeficiente del término independiente\")\r\n",
        "c=float(input())\r\n",
        "#les damos el valor inicial de 0 a x1 y x2\r\n",
        "x1=0\r\n",
        "x2=0\r\n",
        "x=0\r\n",
        "#iniciamos por condicionar lo que ocurre cuando el término dentro de la raíz es menor a 0\r\n",
        "if ((b**2)-4*a*c) < 0:\r\n",
        "  print(\"Las raíces de la función son complejas\")\r\n",
        "else:\r\n",
        "#condicionamos lo que ocurre cuando el término dentro de la raíz es mayor a 0\r\n",
        "  x1 = (-b+np.sqrt(b**2-(4*a*c)))/(2*a)  \r\n",
        "  x2 = (-b-np.sqrt(b**2-(4*a*c)))/(2*a)  \r\n",
        "  print(\"La raíz real x1 es: {:.2f}\".format(x1))\r\n",
        "  print(\"La raíz real x1 es: {:.2f}\".format(x2))"
      ],
      "execution_count": null,
      "outputs": [
        {
          "output_type": "stream",
          "text": [
            "Calculamos las raíces de una función cuadrática a partir de la fórmula general\n",
            "Introduzca el coeficiente del término cuadrático\n",
            "2\n",
            "Introduzca el coeficiente del término lineal\n",
            "1\n",
            "Introduzca el coeficiente del término independiente\n",
            "1\n",
            "Las raíces de la función son complejas\n"
          ],
          "name": "stdout"
        }
      ]
    },
    {
      "cell_type": "markdown",
      "metadata": {
        "id": "n1fBX0d4_cLu"
      },
      "source": [
        "\r\n",
        "\r\n",
        "---\r\n",
        "\r\n",
        "---\r\n",
        "\r\n",
        "\r\n",
        "\r\n",
        "\r\n",
        "\r\n",
        "\r\n"
      ]
    },
    {
      "cell_type": "markdown",
      "metadata": {
        "id": "k1lnqZ0h_oGU"
      },
      "source": [
        "### *Ejercicio 3* "
      ]
    },
    {
      "cell_type": "markdown",
      "metadata": {
        "id": "AQ23HfCQ_3U9"
      },
      "source": [
        "#### **En este ejercicio se tiene como objetivo implementar el Método de Babilonio, donde se calculará la raíz cuadrada de un número s, proporcionado por el usuario, cuando la sucesión converja con un error menor a 0.01.**"
      ]
    },
    {
      "cell_type": "markdown",
      "metadata": {
        "id": "knA9XQBa_5fV"
      },
      "source": [
        "## *Método Babilónico*\r\n",
        "\r\n",
        "\r\n",
        "\r\n",
        "`Utilizado para obtener la aproximación de la raíz cuadrada de un número S.`\r\n",
        "\r\n",
        "$x_{0}\\approx\\sqrt{S}$\r\n",
        "\r\n",
        "\r\n",
        "`Siendo esto, de la forma:`\r\n",
        "\r\n",
        "$x_{n+1}=\\frac{1}{2}(x_n+\\frac{S}{x_n})$\r\n",
        "\r\n",
        "\r\n",
        "`Cuando el número de sucesiones tiende a infinito, la aproximación es igual a  S.`\r\n",
        "\r\n",
        "$\\lim\\limits_{n\\to\\infty} x_{n} = \\sqrt{S}$"
      ]
    },
    {
      "cell_type": "code",
      "metadata": {
        "colab": {
          "base_uri": "https://localhost:8080/"
        },
        "id": "R62DYCPx_9s-",
        "outputId": "fbf1f589-65d1-4595-b1c1-0c6d2e0bce08"
      },
      "source": [
        "print(\"Implementación del Método Babilónico\")\r\n",
        "\r\n",
        "#Se le solicita al usuario que ingrese el número s al cual desea calcularle la raíz cuadrada\r\n",
        "print(\"Introduzca el número al cual desea calcularle la raíz cuadrada\")\r\n",
        "s=float(input())\r\n",
        "xn=np.sqrt(s)-3\r\n",
        "#Comenzamos el ciclo\r\n",
        "#Este continuará hasta que el error sea menor a 0.01\r\n",
        "while abs(np.sqrt(s)-xn) > 0.01:\r\n",
        "#Aplicamos el método babilónico\r\n",
        "  xn=1/2*(xn+(s/xn))\r\n",
        "\r\n",
        "#Le imprimimos la aproximación al usuario\r\n",
        "print(\"El valor aproximado de la raíz cuadrada de\", s, \"es:\", xn, \". \\nLa aproximación tiene un error de:\", abs(np.sqrt(s)-xn))\r\n",
        "#Calculamos la raíz cuadrada de s con la funcion perteneciente de la biblioteca numpy\r\n",
        "rn=np.sqrt(s)\r\n",
        "print(\"Mientras el valor calculado a partir del uso de la biblioteca numpy es de:\", rn)\r\n"
      ],
      "execution_count": null,
      "outputs": [
        {
          "output_type": "stream",
          "text": [
            "Implementación del Método Babilónico\n",
            "Introduzca el número al cual desea calcularle la raíz cuadrada\n",
            "101.56\n",
            "El valor aproximado de la raíz cuadrada de 101.56 es: 10.077715775954594 . \n",
            "La aproximación tiene un error de: 1.7626079296562125e-05\n",
            "Mientras el valor calculado a partir del uso de la biblioteca numpy es de: 10.077698149875298\n"
          ],
          "name": "stdout"
        }
      ]
    },
    {
      "cell_type": "code",
      "metadata": {
        "id": "67M20FHoAAkD"
      },
      "source": [
        ""
      ],
      "execution_count": null,
      "outputs": []
    },
    {
      "cell_type": "markdown",
      "metadata": {
        "id": "rntmej5QC1Sb"
      },
      "source": [
        "\r\n",
        "\r\n",
        "---\r\n",
        "\r\n",
        "---\r\n",
        "\r\n",
        "\r\n",
        "\r\n",
        "\r\n",
        "\r\n",
        "\r\n",
        "\r\n"
      ]
    },
    {
      "cell_type": "markdown",
      "metadata": {
        "id": "jqqMM9bekBcL"
      },
      "source": [
        "### *Ejercicio 4* "
      ]
    },
    {
      "cell_type": "markdown",
      "metadata": {
        "id": "AtxBa5ZJkSxf"
      },
      "source": [
        "#### **En este ejercicio se  trata de reproducir la figura que aparece inmediatamente abajo en el artículo de Wikipedia sobre Series de Taylor, que muestra la aproximación de la función ln(1+x) alrededor de x=0.**\r\n",
        "Siendo esto de la forma : \\\\\r\n",
        "\r\n",
        " $ln(1+x)=\\displaystyle\\sum_{n=1}^\\infty (-1)^{n+1}\\frac{x^n}{n}=x-\\frac{x^2}{2}+\\frac{3^3}{3}+\\cdots$\r\n",
        "\r\n",
        "para $-1 < x \\leq 1$\r\n",
        "\r\n"
      ]
    },
    {
      "cell_type": "code",
      "metadata": {
        "colab": {
          "base_uri": "https://localhost:8080/",
          "height": 295
        },
        "id": "yQgeNbc40L0h",
        "outputId": "b2ec38a3-b095-4ddf-e620-66c0338c3708"
      },
      "source": [
        "print(\"El programa se utiliza para aproximarnos a partir de la serie de Taylor a la funcion ln(1+x).\")\r\n",
        "def Tay(x,n):\r\n",
        "  #entra un vector x\r\n",
        "  r=[]\r\n",
        "  for a in x:\r\n",
        "    xn=0.0\r\n",
        "    #a ese vector, le aplicamos el polinomio a cada valor de x\r\n",
        "    for i in range(1,n+1):\r\n",
        "      xn=xn+((-1)**(i+1))*(a**i/i)\r\n",
        "    r.append(xn)\r\n",
        "  return np.array(r)\r\n",
        "\r\n",
        "x = np.linspace(-0.99,1,1000)  \r\n",
        "#polinomios de Taylor de grado 4,7,11 y 16\r\n",
        "T4=Tay(x,4)\r\n",
        "T7=Tay(x,7)\r\n",
        "T11=Tay(x,11)\r\n",
        "T16=Tay(x,16)\r\n",
        "#logaritmo de x+1\r\n",
        "y=np.log(x+1)\r\n",
        "\r\n",
        "# Creación de la base de la gráfica\r\n",
        "plt.subplot(111)\r\n",
        "plt.xlabel(\"X\")\r\n",
        "plt.ylabel(\"Y\")\r\n",
        "#Título del gráfico\r\n",
        "plt.title('Polinomios de Taylor de grado n que se aproximan a la función logaritmo de x+1')\r\n",
        "\r\n",
        "#graficamos los polinomios de Taylor de grado n\r\n",
        "plt.plot(x,T4,label=\"n=4\")\r\n",
        "plt.plot(x,T7,label=\"n=7\")\r\n",
        "plt.plot(x,T11,label=\"n=11\")\r\n",
        "plt.plot(x,T16,label=\"n=16\")\r\n",
        "\r\n",
        "#función ln(x+1)\r\n",
        "plt.plot(x,y,label='ln(x+1)')\r\n",
        "#fijamos los límites de y\r\n",
        "plt.ylim(-4,4)\r\n",
        "#agregamos una cuadrícula a la gráfica\r\n",
        "plt.grid(True)\r\n",
        "plt.legend(bbox_to_anchor=(1,1), loc=\"upper left\")\r\n",
        "plt.show()"
      ],
      "execution_count": 105,
      "outputs": [
        {
          "output_type": "display_data",
          "data": {
            "image/png": "[encoded data removed]",
            "text/plain": [
              "<Figure size 432x288 with 1 Axes>"
            ]
          },
          "metadata": {
            "tags": [],
            "needs_background": "light"
          }
        }
      ]
    },
    {
      "cell_type": "markdown",
      "metadata": {
        "id": "mNuz-yD9C4e8"
      },
      "source": [
        "###*Ejemplos vistos en clase*"
      ]
    },
    {
      "cell_type": "code",
      "metadata": {
        "id": "QICviwtzDC57"
      },
      "source": [
        "#Bibliotecas a utilizar\r\n",
        "import numpy as np\r\n",
        "import matplotlib as plt"
      ],
      "execution_count": null,
      "outputs": []
    },
    {
      "cell_type": "markdown",
      "metadata": {
        "id": "ADHrHQ_hDmDS"
      },
      "source": [
        "* Ejemplos de control de flujo\r\n",
        "\r\n",
        "\r\n"
      ]
    },
    {
      "cell_type": "code",
      "metadata": {
        "id": "VfuSBmThEp0h"
      },
      "source": [
        "# Uso del Condicional: if \r\n",
        "\r\n",
        "x = 3\r\n",
        "y = 4\r\n",
        "z = 8\r\n",
        "#condicional if, si ocurre entonces...\r\n",
        "if x == y:\r\n",
        "     print(\"Hola\")\r\n",
        "#sino, entonces puede ocurrir esto, si ocurre entonces...\r\n",
        "elif x == z:\r\n",
        "     print(\"Hasta luego\")\r\n",
        "#condicional que \r\n",
        "#si ocurre algo distinto a lo anterior, entonces...\r\n",
        "else:\r\n",
        "     print(\"¿Qué pasó?\")\r\n",
        " \r\n",
        "\r\n",
        "#Uso del Loop: for\r\n",
        "\r\n",
        "print(\"Buenos días\")\r\n",
        "#Por default comienza en 0, incrementa en 1\r\n",
        "for i in range(5): \r\n",
        "     print(i)\r\n",
        "\r\n",
        "print(\"Buenas tardes\")\r\n",
        "# entradas: (inicio, fin, tamaño de paso)\r\n",
        "for i in range(10, 3, -2): \r\n",
        "     print(i)\r\n",
        "\r\n",
        " \r\n",
        "\r\n",
        "#Uso del Loop: while\r\n",
        "#i es un contador que lo utilizamos para llevar un orden y limitar cuando queremos que se pare el ciclo\r\n",
        "i = 1\r\n",
        "while i < 100:\r\n",
        "     print(i**2)\r\n",
        "     i += i**2 # a += b es notación compacta de a = a + b\r\n"
      ],
      "execution_count": null,
      "outputs": []
    },
    {
      "cell_type": "markdown",
      "metadata": {
        "id": "j_0RLlM8EuBq"
      },
      "source": [
        "* Ejemplos de continue y break\r\n",
        "\r\n"
      ]
    },
    {
      "cell_type": "code",
      "metadata": {
        "id": "anIikAyMFWgu"
      },
      "source": [
        "#Utilizando continue\r\n",
        "for num in range(2, 10):\r\n",
        "#utilizando el condicional if\r\n",
        "     if num % 2 == 0:\r\n",
        "#Se regresa al inicio\r\n",
        "    continue \r\n",
        "print(f\"Encontrado {num}, un número impar\")\r\n",
        "\r\n",
        " \r\n",
        "#se le da un valor inicial a n\r\n",
        "n = 64\r\n",
        "#para una x dentro del rango abierto de 2 a n\r\n",
        "for x in range(2, n):\r\n",
        "#utilizando el condicional if\r\n",
        "# si n es divisible por x (modulo 0)\r\n",
        "     if n % x == 0: \r\n",
        "#entonces imprime...\r\n",
        "          print(f'{n} igual {x} * {n // x}')\r\n",
        "#break, te saca del control de flujo en el que te encuentres\r\n",
        "          break\r\n",
        "\r\n",
        " \r\n",
        "\r\n",
        "for i in range(5):\r\n",
        "     for j in range(5*i):\r\n",
        "#condicional if\r\n",
        "          if j == 10:\r\n",
        "#imprimir\r\n",
        "               print(j)\r\n",
        "#sacar del control de flujo\r\n",
        "               break\r\n",
        "#break se va a esta línea\r\n",
        "\r\n",
        " \r\n",
        "#condicional if utilizado cuando lo que se dice es falso\r\n",
        "if False:\r\n",
        "     #no hace nada, continua\r\n",
        "     pass \r\n",
        "#si no, entonces\r\n",
        "else:\r\n",
        "#imprimir verdadero\r\n",
        "     print('True!')\r\n"
      ],
      "execution_count": null,
      "outputs": []
    },
    {
      "cell_type": "markdown",
      "metadata": {
        "id": "lPPlMs6WHwEp"
      },
      "source": [
        "* Tipos de datos en NumPy:\r\n",
        "\r\n",
        "```\r\n",
        " i integer (entero)\r\n",
        " b boolean\r\n",
        " u unsigned integer\r\n",
        " f float (real)\r\n",
        " c complex float (complejo)\r\n",
        " m timedelta (tiempo hh:mm:sss)\r\n",
        " M datetime (fecha + tiempo)\r\n",
        " O object (objeto)\r\n",
        " S string (cadena de caracteres)\r\n",
        " U Unicode string\r\n",
        "```\r\n",
        "\r\n"
      ]
    },
    {
      "cell_type": "markdown",
      "metadata": {
        "id": "l0K3aPwtIJs5"
      },
      "source": [
        "* Listas (conjunto de objetos)"
      ]
    },
    {
      "cell_type": "code",
      "metadata": {
        "id": "TURFHm0fIR3O"
      },
      "source": [
        "lista1 = [1,2,3.0,4]\r\n",
        "\r\n",
        "lista2 = [1.,2,'3',4]\r\n",
        "\r\n",
        "print(lista1)\r\n",
        "\r\n",
        "print(lista2)\r\n",
        "\r\n",
        "print(lista1+lista2)\r\n",
        "\r\n",
        " "
      ],
      "execution_count": null,
      "outputs": []
    },
    {
      "cell_type": "markdown",
      "metadata": {
        "id": "N4wr7IktIToO"
      },
      "source": [
        "* Arreglos (vectores n-dimensionales)\r\n"
      ]
    },
    {
      "cell_type": "code",
      "metadata": {
        "colab": {
          "base_uri": "https://localhost:8080/"
        },
        "id": "iyk_ahjWItkq",
        "outputId": "f0363607-699d-4a84-bcfb-db9e67e04c2f"
      },
      "source": [
        "# Construcción de un arreglo\r\n",
        "\r\n",
        "# Arreglo de enteros\r\n",
        "s1 = np.array([1,2,3,4])      \r\n",
        "\r\n",
        "# Un número flotante convierte al arreglo a flotante\r\n",
        "s2 = np.array([1,2,3,4.0])   \r\n",
        "\r\n",
        "# Un arreglo con un carácter, convierte a todo el arreglo de caracteres. \r\n",
        "s3 = np.array([1,2,3,'4'])    \r\n",
        "\r\n",
        "# Inserta puntos cada 0.5 entre 0 y 5, incluyendo extremos\r\n",
        "s4 = np.arange(0,5,0.5)     \r\n",
        "\r\n",
        "# Inserta 20 puntos entre 0 y 5, incluyendo extremos\r\n",
        "s5 = np.linspace(0,5,20)    \r\n",
        "\r\n",
        " \r\n",
        "\r\n",
        "# Acceso a los elementos de un arreglo\r\n",
        "\r\n",
        "# accede al 3er elemento de s1\r\n",
        "print(s1[2])       \r\n",
        "\r\n",
        "# accede del 2o elemento hasta antes del 4o.   \r\n",
        "print(s1[1:3])    \r\n",
        "\r\n",
        " \r\n",
        "\r\n",
        "# Una dimensión\r\n",
        "\r\n",
        "x1 = np.array([1,2,3,4])\r\n",
        "\r\n",
        "y1 = np.array([1,2,3,4])\r\n",
        "\r\n",
        " \r\n",
        "\r\n",
        "# Dos dimensiones\r\n",
        "\r\n",
        "x = np.array([[9, 1], [1, 5]])\r\n",
        "\r\n",
        "y = np.array([[4, 2], [7, 4]])\r\n",
        "\r\n",
        "c=2\r\n",
        "\r\n",
        "\r\n",
        "#Operación con arreglos (Sólo si los elementos son numéricos) \r\n",
        "\r\n",
        "# suma de dos arreglos\r\n",
        "print(x+y)\r\n",
        "\r\n",
        "# suma de una constante \r\n",
        "print(x+c)\r\n",
        "\r\n",
        "# división   \r\n",
        "print(x/y)    \r\n",
        "\r\n",
        "# multiplicación por una constante\r\n",
        "print(c*x)      \r\n",
        "\r\n",
        "# potencia\r\n",
        "print(x**2)   \r\n",
        "\r\n",
        "# multiplicación de arreglos\r\n",
        "print(x @ y)        \r\n",
        "\r\n",
        "# producto escalar\r\n",
        "print(np.dot(x,y))   \r\n",
        "\r\n",
        "# suma de elementos\r\n",
        "print(np.sum(x))      \r\n",
        "\r\n",
        "# evalúa la raiz cuadrada a cada elemento\r\n",
        "print(np.sqrt(x))      \r\n",
        "\r\n",
        "# evalúa la exponencial del arreglo\r\n",
        "print(np.exp(x))      \r\n",
        "\r\n",
        "# evalúa el logaritmo \r\n",
        "print(np.log(x))        \r\n",
        " "
      ],
      "execution_count": null,
      "outputs": [
        {
          "output_type": "stream",
          "text": [
            "3\n",
            "[2 3]\n",
            "[[13  3]\n",
            " [ 8  9]]\n",
            "[[11  3]\n",
            " [ 3  7]]\n",
            "[[2.25       0.5       ]\n",
            " [0.14285714 1.25      ]]\n",
            "[[18  2]\n",
            " [ 2 10]]\n",
            "[[81  1]\n",
            " [ 1 25]]\n",
            "[[43 22]\n",
            " [39 22]]\n",
            "[[43 22]\n",
            " [39 22]]\n",
            "16\n",
            "[[3.         1.        ]\n",
            " [1.         2.23606798]]\n",
            "[[8.10308393e+03 2.71828183e+00]\n",
            " [2.71828183e+00 1.48413159e+02]]\n",
            "[[2.19722458 0.        ]\n",
            " [0.         1.60943791]]\n"
          ],
          "name": "stdout"
        }
      ]
    },
    {
      "cell_type": "markdown",
      "metadata": {
        "id": "5yyRgxdeJLSn"
      },
      "source": [
        "* Gráficas de funciones en 2D"
      ]
    },
    {
      "cell_type": "code",
      "metadata": {
        "colab": {
          "base_uri": "https://localhost:8080/",
          "height": 354
        },
        "id": "2xUxCtmjDaSq",
        "outputId": "3337de4e-dd8c-4374-e986-60661582ad83"
      },
      "source": [
        "# Gráfica de funciones\r\n",
        "# Definición de variables y funciones\r\n",
        "\r\n",
        "# arrego de 100 puntos entre -2 y 4\r\n",
        "x = np.linspace(-2,4,100)  \r\n",
        "\r\n",
        "x1=np.linspace(0.3,4,100)\r\n",
        "\r\n",
        "y1 = x**2\r\n",
        "\r\n",
        "y2 = np.log(x)\r\n",
        "\r\n",
        "y3 = np.log(x1)\r\n",
        "\r\n",
        "\r\n",
        "# Creación de la gráficas\r\n",
        "\r\n",
        "plt.subplot(111)\r\n",
        "\r\n",
        "plt.plot(x,y1,label='y1')\r\n",
        "\r\n",
        "plt.plot(x,y2,label='y2')\r\n",
        "\r\n",
        "plt.plot(x,y3,label='y3')\r\n",
        "\r\n",
        "plt.ylim(-2, 2)\r\n",
        "\r\n",
        "plt.legend(bbox_to_anchor=(1,1), loc=\"upper left\")\r\n",
        "\r\n",
        " \r\n"
      ],
      "execution_count": null,
      "outputs": [
        {
          "output_type": "stream",
          "text": [
            "/usr/local/lib/python3.6/dist-packages/ipykernel_launcher.py:16: RuntimeWarning: divide by zero encountered in log\n",
            "  app.launch_new_instance()\n",
            "/usr/local/lib/python3.6/dist-packages/ipykernel_launcher.py:16: RuntimeWarning: invalid value encountered in log\n",
            "  app.launch_new_instance()\n"
          ],
          "name": "stderr"
        },
        {
          "output_type": "execute_result",
          "data": {
            "text/plain": [
              "<matplotlib.legend.Legend at 0x7f6f694f0518>"
            ]
          },
          "metadata": {
            "tags": []
          },
          "execution_count": 6
        },
        {
          "output_type": "display_data",
          "data": {
            "image/png": "[encoded data removed]",
            "text/plain": [
              "<Figure size 432x288 with 1 Axes>"
            ]
          },
          "metadata": {
            "tags": [],
            "needs_background": "light"
          }
        }
      ]
    },
    {
      "cell_type": "code",
      "metadata": {
        "id": "Z7lxduChJiuf"
      },
      "source": [
        ""
      ],
      "execution_count": null,
      "outputs": []
    }
  ]
}