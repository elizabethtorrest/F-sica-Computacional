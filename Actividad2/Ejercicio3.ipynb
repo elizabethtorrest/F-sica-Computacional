{
  "nbformat": 4,
  "nbformat_minor": 0,
  "metadata": {
    "colab": {
      "name": "Ejercicio 3.ipynb",
      "provenance": []
    },
    "kernelspec": {
      "display_name": "Python 3",
      "name": "python3"
    }
  },
  "cells": [
    {
      "cell_type": "markdown",
      "metadata": {
        "id": "UWrhBufY90i_"
      },
      "source": [
        "*Elizabeth Torres Torrecillas*\r\n",
        "\r\n",
        "---\r\n",
        "\r\n",
        "\r\n",
        "\r\n"
      ]
    },
    {
      "cell_type": "markdown",
      "metadata": {
        "id": "TllSOkHInQQ7"
      },
      "source": [
        "### *Ejercicio 3*"
      ]
    },
    {
      "cell_type": "markdown",
      "metadata": {
        "id": "3QvVxiHztAHO"
      },
      "source": [
        "# **En este ejercicio se tiene como objetivo implementar el Método de Babilonio, donde se calculará la raíz cuadrada de un número s, proporcionado por el usuario, cuando la sucesión converja con un error menor a 0.01.**"
      ]
    },
    {
      "cell_type": "markdown",
      "metadata": {
        "id": "3blxxpICvZ_A"
      },
      "source": [
        "## *Método Babilónico*\r\n",
        "\r\n",
        "\r\n",
        "\r\n",
        "`Utilizado para obtener la aproximación de la raíz cuadrada de un número S.`\r\n",
        "\r\n",
        "$x_{0}\\approx\\sqrt{S}$\r\n",
        "\r\n",
        "\r\n",
        "`Siendo esto, de la forma:`\r\n",
        "\r\n",
        "$x_{n+1}=\\frac{1}{2}(x_n+\\frac{S}{x_n})$\r\n",
        "\r\n",
        "\r\n",
        "`Cuando el número de sucesiones tiende a infinito, la aproximación es igual a  S.`\r\n",
        "\r\n",
        "$\\lim\\limits_{n\\to\\infty} x_{n} = \\sqrt{S}$"
      ]
    },
    {
      "cell_type": "code",
      "metadata": {
        "id": "c0fQUN4uttVs"
      },
      "source": [
        "#Bibliotecas a utilizar\r\n",
        "import numpy as np"
      ],
      "execution_count": 10,
      "outputs": []
    },
    {
      "cell_type": "code",
      "metadata": {
        "colab": {
          "base_uri": "https://localhost:8080/"
        },
        "id": "EN1Ykqiyt1wk",
        "outputId": "d83c0ccc-4239-4958-9243-921b5c97c146"
      },
      "source": [
        "print(\"Implementación del Método Babilónico\")\r\n",
        "\r\n",
        "#Se le solicita al usuario que ingrese el número s al cual desea calcularle la raíz cuadrada\r\n",
        "print(\"Introduzca el número al cual desea calcularle la raíz cuadrada\")\r\n",
        "s=float(input())\r\n",
        "\r\n",
        "print(\"Proporcione un valor inicial x0:\")\r\n",
        "x0=float(input())\r\n",
        "#Aplicamos el método babilónico\r\n",
        "#Ingresamos un contador que nos ayudará a llevar un orden y saber cuando parar el ciclo\r\n",
        "i=1\r\n",
        "xn=1/2*(x0+(s/x0))\r\n",
        "#Comenzamos el ciclo\r\n",
        "#Este continuará hasta que el error sea menor a 0.01\r\n",
        "while abs(s-xn) > 0.01:\r\n",
        "  xn=1/2*(xn+(s/xn))\r\n",
        "  i=i+1\r\n",
        "  break\r\n",
        "#Le imprimimos la aproximación al usuario\r\n",
        "print(\"El valor aproximado de la raíz cuadrada de\", s, \"es:\", xn, \". \\nLa aproximación tiene un error de:\", abs(np.sqrt(s)-xn))\r\n",
        "#Calculamos la raíz cuadrada de s con la funcion perteneciente de la biblioteca numpy\r\n",
        "rn=np.sqrt(s)\r\n",
        "print(\"Mientras el valor calculado a partir del uso de la biblioteca numpy es de:\", rn)\r\n",
        "\r\n",
        "\r\n"
      ],
      "execution_count": 12,
      "outputs": [
        {
          "output_type": "stream",
          "text": [
            "Implementación del Método Babilónico\n",
            "Introduzca el número al cual desea calcularle la raíz cuadrada\n",
            "2\n",
            "Proporcione un valor inicial x0:\n",
            "1\n",
            "El valor aproximado de la raíz cuadrada de 2.0 es: 1.4166666666666665 . \n",
            "La aproximación tiene un error de: 0.002453104293571373\n",
            "Mientras el valor calculado a partir del uso de la biblioteca numpy es de: 1.4142135623730951\n"
          ],
          "name": "stdout"
        }
      ]
    },
    {
      "cell_type": "code",
      "metadata": {
        "id": "Gt33zZVYw70V"
      },
      "source": [
        ""
      ],
      "execution_count": null,
      "outputs": []
    }
  ]
}