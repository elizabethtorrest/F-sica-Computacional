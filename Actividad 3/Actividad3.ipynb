{
  "nbformat": 4,
  "nbformat_minor": 0,
  "metadata": {
    "colab": {
      "name": "Actividad3.ipynb",
      "provenance": [],
      "collapsed_sections": []
    },
    "kernelspec": {
      "name": "python3",
      "display_name": "Python 3"
    }
  },
  "cells": [
    {
      "cell_type": "markdown",
      "metadata": {
        "id": "PcQKprKtvDj7"
      },
      "source": [
        "##*Elizabeth Torres Torrecillas* \r\n"
      ]
    },
    {
      "cell_type": "markdown",
      "metadata": {
        "id": "vSGXevvtvNEB"
      },
      "source": [
        "# *Actividad 3*"
      ]
    },
    {
      "cell_type": "markdown",
      "metadata": {
        "id": "atAq49XGvUcQ"
      },
      "source": [
        "\r\n",
        "\r\n",
        "---\r\n",
        "\r\n",
        "---\r\n",
        "\r\n",
        "---\r\n",
        "\r\n",
        "\r\n",
        "\r\n",
        "\r\n",
        "\r\n"
      ]
    },
    {
      "cell_type": "code",
      "metadata": {
        "id": "BXB0Kyq6vEI5"
      },
      "source": [
        "#importar bibliotecas a utilizar\r\n",
        "import numpy as np\r\n",
        "import matplotlib.pyplot as plt\r\n",
        "import pandas as pd"
      ],
      "execution_count": 90,
      "outputs": []
    },
    {
      "cell_type": "code",
      "metadata": {
        "id": "6gr4wvClycG-",
        "colab": {
          "base_uri": "https://localhost:8080/"
        },
        "outputId": "7e18cb97-9a57-47bc-9288-c3c1c74517ca"
      },
      "source": [
        "#Guardamos el archivo .txt que subimos a Github en la variable url\r\n",
        "url='https://raw.githubusercontent.com/elizabethtorrest/Fisica-Computacional/F%C3%ADsica-Computacional/Actividad%203/Climatologia%20Imuris%20Sonora.txt'\r\n",
        "\r\n",
        "# Definimos los nombres de las columnas\r\n",
        "type_data = ['Fecha', 'Precip', 'Evap', 'Tmax', 'Tmin']\r\n",
        "\r\n",
        "#leemos el archivo .txt que subimos a github y lo convertimos a csv\r\n",
        "df_dist=pd.read_csv(url, names=type_data, encoding='cp1251', sep='\\s+', header=None, skiprows=19, skipfooter=1, engine='python')\r\n",
        "print(df.info)"
      ],
      "execution_count": 104,
      "outputs": [
        {
          "output_type": "stream",
          "text": [
            "<bound method DataFrame.info of             Fecha Precip  Evap  Tmax Tmin\n",
            "0      01/01/1981      0  Nulo    27    5\n",
            "1      02/01/1981      0  Nulo    25    5\n",
            "2      03/01/1981      0  Nulo    26    6\n",
            "3      04/01/1981      0  Nulo  22.5    7\n",
            "4      05/01/1981      0  Nulo  22.5    6\n",
            "...           ...    ...   ...   ...  ...\n",
            "12134  26/04/2016      0  Nulo    28    5\n",
            "12135  27/04/2016      0  Nulo    25    5\n",
            "12136  28/04/2016      0  Nulo    25    5\n",
            "12137  29/04/2016      0  Nulo    23    4\n",
            "12138  30/04/2016      0  Nulo    23    6\n",
            "\n",
            "[12139 rows x 5 columns]>\n"
          ],
          "name": "stdout"
        }
      ]
    },
    {
      "cell_type": "markdown",
      "metadata": {
        "id": "ZPjOv8vDNwXx"
      },
      "source": [
        "* **Se imprime el encabezado y final del dataframe**"
      ]
    },
    {
      "cell_type": "code",
      "metadata": {
        "colab": {
          "base_uri": "https://localhost:8080/"
        },
        "id": "b1MIM-JvNzC6",
        "outputId": "972ba203-0afa-4d9d-a911-c35f7dadf684"
      },
      "source": [
        "#Se imprime el encabezado y el final del dataframe\r\n",
        "print(df_dist.head())\r\n",
        "print(df_dist.tail())"
      ],
      "execution_count": 105,
      "outputs": [
        {
          "output_type": "stream",
          "text": [
            "        Fecha Precip  Evap  Tmax Tmin\n",
            "0  01/01/1981      0  Nulo    27    5\n",
            "1  02/01/1981      0  Nulo    25    5\n",
            "2  03/01/1981      0  Nulo    26    6\n",
            "3  04/01/1981      0  Nulo  22.5    7\n",
            "4  05/01/1981      0  Nulo  22.5    6\n",
            "            Fecha Precip  Evap Tmax Tmin\n",
            "12134  26/04/2016      0  Nulo   28    5\n",
            "12135  27/04/2016      0  Nulo   25    5\n",
            "12136  28/04/2016      0  Nulo   25    5\n",
            "12137  29/04/2016      0  Nulo   23    4\n",
            "12138  30/04/2016      0  Nulo   23    6\n"
          ],
          "name": "stdout"
        }
      ]
    },
    {
      "cell_type": "markdown",
      "metadata": {
        "id": "AHe47NsnkT67"
      },
      "source": [
        "* **¿Qué dimensiones tiene el frame?**\r\n",
        "\r\n"
      ]
    },
    {
      "cell_type": "code",
      "metadata": {
        "colab": {
          "base_uri": "https://localhost:8080/"
        },
        "id": "TbGFtFAYkTIL",
        "outputId": "c4b9b755-021c-48b9-da17-b326ce4f0bd9"
      },
      "source": [
        "# Utilizamos la función shape para concer su tamaño (renglones, columnas)\r\n",
        "df_dist.shape"
      ],
      "execution_count": 106,
      "outputs": [
        {
          "output_type": "execute_result",
          "data": {
            "text/plain": [
              "(12139, 5)"
            ]
          },
          "metadata": {
            "tags": []
          },
          "execution_count": 106
        }
      ]
    },
    {
      "cell_type": "markdown",
      "metadata": {
        "id": "49nnNmCWkfU7"
      },
      "source": [
        "* **¿Cómo es el contenido de tu dataframe?**"
      ]
    },
    {
      "cell_type": "code",
      "metadata": {
        "colab": {
          "base_uri": "https://localhost:8080/"
        },
        "id": "veJz2klOkm9n",
        "outputId": "d411c648-ed43-49ee-ac51-2e374c12db88"
      },
      "source": [
        "# Información del dataframe\r\n",
        "df_dist.info()"
      ],
      "execution_count": 107,
      "outputs": [
        {
          "output_type": "stream",
          "text": [
            "<class 'pandas.core.frame.DataFrame'>\n",
            "RangeIndex: 12139 entries, 0 to 12138\n",
            "Data columns (total 5 columns):\n",
            " #   Column  Non-Null Count  Dtype \n",
            "---  ------  --------------  ----- \n",
            " 0   Fecha   12139 non-null  object\n",
            " 1   Precip  12139 non-null  object\n",
            " 2   Evap    12139 non-null  object\n",
            " 3   Tmax    12139 non-null  object\n",
            " 4   Tmin    12139 non-null  object\n",
            "dtypes: object(5)\n",
            "memory usage: 474.3+ KB\n"
          ],
          "name": "stdout"
        }
      ]
    },
    {
      "cell_type": "markdown",
      "metadata": {
        "id": "uPyyI4Oxksb3"
      },
      "source": [
        "* **Remplazamos un caracter** \r\n",
        "\r\n",
        ">  Los datos originales incluyen la cadena de caracteres 'Nulo', indicando que no hubo datos para esa variable, ese día. Reemplazamos la palabra 'Nulo' con la función: df.replace()\r\n",
        "\r\n",
        "\r\n"
      ]
    },
    {
      "cell_type": "code",
      "metadata": {
        "colab": {
          "base_uri": "https://localhost:8080/",
          "height": 204
        },
        "id": "W8tRya7Lkwl_",
        "outputId": "e14f2551-cb67-4c33-c9e2-1ce7beccafdb"
      },
      "source": [
        "#Hacemos una copia del trabajo y preservamos el dataframe original\r\n",
        "df_work0 = df_dist.copy()\r\n",
        "df_work0.head()\r\n",
        "\r\n",
        "# Reemplazamos los textos 'Nulo' por espacio en blanco ''\r\n",
        "str_Nulo = 'Nulo'\r\n",
        "df_work1 = df_work0.replace(to_replace=str_Nulo, value='', regex=True)\r\n",
        "df_work1.head()"
      ],
      "execution_count": 108,
      "outputs": [
        {
          "output_type": "execute_result",
          "data": {
            "text/html": [
              "<div>\n",
              "<style scoped>\n",
              "    .dataframe tbody tr th:only-of-type {\n",
              "        vertical-align: middle;\n",
              "    }\n",
              "\n",
              "    .dataframe tbody tr th {\n",
              "        vertical-align: top;\n",
              "    }\n",
              "\n",
              "    .dataframe thead th {\n",
              "        text-align: right;\n",
              "    }\n",
              "</style>\n",
              "<table border=\"1\" class=\"dataframe\">\n",
              "  <thead>\n",
              "    <tr style=\"text-align: right;\">\n",
              "      <th></th>\n",
              "      <th>Fecha</th>\n",
              "      <th>Precip</th>\n",
              "      <th>Evap</th>\n",
              "      <th>Tmax</th>\n",
              "      <th>Tmin</th>\n",
              "    </tr>\n",
              "  </thead>\n",
              "  <tbody>\n",
              "    <tr>\n",
              "      <th>0</th>\n",
              "      <td>01/01/1981</td>\n",
              "      <td>0</td>\n",
              "      <td></td>\n",
              "      <td>27</td>\n",
              "      <td>5</td>\n",
              "    </tr>\n",
              "    <tr>\n",
              "      <th>1</th>\n",
              "      <td>02/01/1981</td>\n",
              "      <td>0</td>\n",
              "      <td></td>\n",
              "      <td>25</td>\n",
              "      <td>5</td>\n",
              "    </tr>\n",
              "    <tr>\n",
              "      <th>2</th>\n",
              "      <td>03/01/1981</td>\n",
              "      <td>0</td>\n",
              "      <td></td>\n",
              "      <td>26</td>\n",
              "      <td>6</td>\n",
              "    </tr>\n",
              "    <tr>\n",
              "      <th>3</th>\n",
              "      <td>04/01/1981</td>\n",
              "      <td>0</td>\n",
              "      <td></td>\n",
              "      <td>22.5</td>\n",
              "      <td>7</td>\n",
              "    </tr>\n",
              "    <tr>\n",
              "      <th>4</th>\n",
              "      <td>05/01/1981</td>\n",
              "      <td>0</td>\n",
              "      <td></td>\n",
              "      <td>22.5</td>\n",
              "      <td>6</td>\n",
              "    </tr>\n",
              "  </tbody>\n",
              "</table>\n",
              "</div>"
            ],
            "text/plain": [
              "        Fecha Precip Evap  Tmax Tmin\n",
              "0  01/01/1981      0         27    5\n",
              "1  02/01/1981      0         25    5\n",
              "2  03/01/1981      0         26    6\n",
              "3  04/01/1981      0       22.5    7\n",
              "4  05/01/1981      0       22.5    6"
            ]
          },
          "metadata": {
            "tags": []
          },
          "execution_count": 108
        }
      ]
    },
    {
      "cell_type": "markdown",
      "metadata": {
        "id": "ESCI9bWUk7ub"
      },
      "source": [
        "* **Convertimos valores de variables a números flotantes**\r\n",
        "> Después habrá que convertir a número flotante o numérico los datos de Precipitación, Evaporación, Temperatura Máxima y Temperatura mínima utilizando la función: df.to_numeric()\r\n",
        "\r\n",
        "\r\n"
      ]
    },
    {
      "cell_type": "code",
      "metadata": {
        "id": "51T6oNC9k9_U"
      },
      "source": [
        "#Convertimos los valores de las variables ambientales a números flotantes\r\n",
        "inf_met = ['Precip', 'Evap', 'Tmax', 'Tmin']\r\n",
        "for inf in inf_met:\r\n",
        "  df_work1[inf] = pd.to_numeric(df_work1[inf], errors='coerce')"
      ],
      "execution_count": 109,
      "outputs": []
    },
    {
      "cell_type": "markdown",
      "metadata": {
        "id": "fpdZRlLslG2B"
      },
      "source": [
        "* **Contrastamos la información del DataFrame**\r\n",
        "> Esto se realiza con ayuda de la función: df.info()\r\n"
      ]
    },
    {
      "cell_type": "code",
      "metadata": {
        "colab": {
          "base_uri": "https://localhost:8080/"
        },
        "id": "0aopyLYolKQK",
        "outputId": "fb5ff862-4043-4b61-ab90-74a4df613a2b"
      },
      "source": [
        "#verificamos que si se haya realizado la conversión de valores variables a números flotantes.\r\n",
        "df_work1.info()"
      ],
      "execution_count": 110,
      "outputs": [
        {
          "output_type": "stream",
          "text": [
            "<class 'pandas.core.frame.DataFrame'>\n",
            "RangeIndex: 12139 entries, 0 to 12138\n",
            "Data columns (total 5 columns):\n",
            " #   Column  Non-Null Count  Dtype  \n",
            "---  ------  --------------  -----  \n",
            " 0   Fecha   12139 non-null  object \n",
            " 1   Precip  12134 non-null  float64\n",
            " 2   Evap    0 non-null      float64\n",
            " 3   Tmax    11972 non-null  float64\n",
            " 4   Tmin    11979 non-null  float64\n",
            "dtypes: float64(4), object(1)\n",
            "memory usage: 474.3+ KB\n"
          ],
          "name": "stdout"
        }
      ]
    },
    {
      "cell_type": "markdown",
      "metadata": {
        "id": "JiFBCBprSae0"
      },
      "source": [
        "* **Se contabiliza el número de datos faltantes en las variables**\r\n",
        "> Esto se realiza con ayuda de la función df.isnull().sum()"
      ]
    },
    {
      "cell_type": "code",
      "metadata": {
        "colab": {
          "base_uri": "https://localhost:8080/"
        },
        "id": "Vpt45HTSSzqZ",
        "outputId": "bb44ef2d-0440-4140-d93d-cbd94cada75f"
      },
      "source": [
        "#Notamos que hay valores nulos\r\n",
        "#Sumamos los valores nulos\r\n",
        "\r\n",
        "df_work1.isnull().sum()"
      ],
      "execution_count": 111,
      "outputs": [
        {
          "output_type": "execute_result",
          "data": {
            "text/plain": [
              "Fecha         0\n",
              "Precip        5\n",
              "Evap      12139\n",
              "Tmax        167\n",
              "Tmin        160\n",
              "dtype: int64"
            ]
          },
          "metadata": {
            "tags": []
          },
          "execution_count": 111
        }
      ]
    },
    {
      "cell_type": "markdown",
      "metadata": {
        "id": "oJvM7XEjTOQW"
      },
      "source": [
        "* **Imprimimos de nuevo el encabezado y el final del dataframe**\r\n",
        "> Esto se realiza con ayuda de las funciones df.head() y df.tail()\r\n",
        "\r\n"
      ]
    },
    {
      "cell_type": "code",
      "metadata": {
        "colab": {
          "base_uri": "https://localhost:8080/"
        },
        "id": "hnHY4ulMTZUt",
        "outputId": "cc3495f9-838d-4420-f8db-aabe22c78f3a"
      },
      "source": [
        "#Imprimimos el envabezado y el final del dataframe\r\n",
        "print(df_work1.head())\r\n",
        "print(df_work1.head())"
      ],
      "execution_count": 112,
      "outputs": [
        {
          "output_type": "stream",
          "text": [
            "        Fecha  Precip  Evap  Tmax  Tmin\n",
            "0  01/01/1981     0.0   NaN  27.0   5.0\n",
            "1  02/01/1981     0.0   NaN  25.0   5.0\n",
            "2  03/01/1981     0.0   NaN  26.0   6.0\n",
            "3  04/01/1981     0.0   NaN  22.5   7.0\n",
            "4  05/01/1981     0.0   NaN  22.5   6.0\n",
            "        Fecha  Precip  Evap  Tmax  Tmin\n",
            "0  01/01/1981     0.0   NaN  27.0   5.0\n",
            "1  02/01/1981     0.0   NaN  25.0   5.0\n",
            "2  03/01/1981     0.0   NaN  26.0   6.0\n",
            "3  04/01/1981     0.0   NaN  22.5   7.0\n",
            "4  05/01/1981     0.0   NaN  22.5   6.0\n"
          ],
          "name": "stdout"
        }
      ]
    },
    {
      "cell_type": "markdown",
      "metadata": {
        "id": "2PqstKZEWdaz"
      },
      "source": [
        "* **Realizamos una estadística básica de las variables numéricas del dataframe y hacemos una interpretación de los resultados, para ver si tienen sentido físico**\r\n",
        "> Esto con ayuda de la función df.describe()"
      ]
    },
    {
      "cell_type": "code",
      "metadata": {
        "colab": {
          "base_uri": "https://localhost:8080/",
          "height": 297
        },
        "id": "S9uWWQS3RNKi",
        "outputId": "22842952-b1d5-43c5-e83a-11151c0dcdd1"
      },
      "source": [
        "#Se hace análisis estadístico de las variables numéricas\r\n",
        "#Redondeamos a 2 cifras significativas\r\n",
        "df_work1.describe().round(2)"
      ],
      "execution_count": 113,
      "outputs": [
        {
          "output_type": "execute_result",
          "data": {
            "text/html": [
              "<div>\n",
              "<style scoped>\n",
              "    .dataframe tbody tr th:only-of-type {\n",
              "        vertical-align: middle;\n",
              "    }\n",
              "\n",
              "    .dataframe tbody tr th {\n",
              "        vertical-align: top;\n",
              "    }\n",
              "\n",
              "    .dataframe thead th {\n",
              "        text-align: right;\n",
              "    }\n",
              "</style>\n",
              "<table border=\"1\" class=\"dataframe\">\n",
              "  <thead>\n",
              "    <tr style=\"text-align: right;\">\n",
              "      <th></th>\n",
              "      <th>Precip</th>\n",
              "      <th>Evap</th>\n",
              "      <th>Tmax</th>\n",
              "      <th>Tmin</th>\n",
              "    </tr>\n",
              "  </thead>\n",
              "  <tbody>\n",
              "    <tr>\n",
              "      <th>count</th>\n",
              "      <td>12134.00</td>\n",
              "      <td>0.0</td>\n",
              "      <td>11972.00</td>\n",
              "      <td>11979.00</td>\n",
              "    </tr>\n",
              "    <tr>\n",
              "      <th>mean</th>\n",
              "      <td>1.28</td>\n",
              "      <td>NaN</td>\n",
              "      <td>28.38</td>\n",
              "      <td>10.36</td>\n",
              "    </tr>\n",
              "    <tr>\n",
              "      <th>std</th>\n",
              "      <td>5.68</td>\n",
              "      <td>NaN</td>\n",
              "      <td>7.44</td>\n",
              "      <td>7.08</td>\n",
              "    </tr>\n",
              "    <tr>\n",
              "      <th>min</th>\n",
              "      <td>0.00</td>\n",
              "      <td>NaN</td>\n",
              "      <td>5.00</td>\n",
              "      <td>-10.00</td>\n",
              "    </tr>\n",
              "    <tr>\n",
              "      <th>25%</th>\n",
              "      <td>0.00</td>\n",
              "      <td>NaN</td>\n",
              "      <td>23.00</td>\n",
              "      <td>4.50</td>\n",
              "    </tr>\n",
              "    <tr>\n",
              "      <th>50%</th>\n",
              "      <td>0.00</td>\n",
              "      <td>NaN</td>\n",
              "      <td>29.00</td>\n",
              "      <td>10.00</td>\n",
              "    </tr>\n",
              "    <tr>\n",
              "      <th>75%</th>\n",
              "      <td>0.00</td>\n",
              "      <td>NaN</td>\n",
              "      <td>34.00</td>\n",
              "      <td>17.00</td>\n",
              "    </tr>\n",
              "    <tr>\n",
              "      <th>max</th>\n",
              "      <td>130.00</td>\n",
              "      <td>NaN</td>\n",
              "      <td>45.00</td>\n",
              "      <td>28.00</td>\n",
              "    </tr>\n",
              "  </tbody>\n",
              "</table>\n",
              "</div>"
            ],
            "text/plain": [
              "         Precip  Evap      Tmax      Tmin\n",
              "count  12134.00   0.0  11972.00  11979.00\n",
              "mean       1.28   NaN     28.38     10.36\n",
              "std        5.68   NaN      7.44      7.08\n",
              "min        0.00   NaN      5.00    -10.00\n",
              "25%        0.00   NaN     23.00      4.50\n",
              "50%        0.00   NaN     29.00     10.00\n",
              "75%        0.00   NaN     34.00     17.00\n",
              "max      130.00   NaN     45.00     28.00"
            ]
          },
          "metadata": {
            "tags": []
          },
          "execution_count": 113
        }
      ]
    },
    {
      "cell_type": "markdown",
      "metadata": {
        "id": "IVN97oIz-NCO"
      },
      "source": [
        "* **Análisis de la variable Fecha**\r\n",
        "> Hacemos una copia del dataframe del paso anterior, por si se requiere recuperar el nuevo dataframe, utilizando df:new=df.copy()\r\n",
        "\r\n"
      ]
    },
    {
      "cell_type": "code",
      "metadata": {
        "colab": {
          "base_uri": "https://localhost:8080/"
        },
        "id": "IwBuubLW-nUo",
        "outputId": "34c37c08-227b-429e-ae15-05d68bdad249"
      },
      "source": [
        "#Definimos un nuevo DataFrame por si hay que regresarse.\r\n",
        "df_work2 = df_work1.copy()\r\n",
        "#Este va a tener el nombre 'Fecha'\r\n",
        "#El tipo es objeto\r\n",
        "df_work2['Fecha'].head()"
      ],
      "execution_count": 114,
      "outputs": [
        {
          "output_type": "execute_result",
          "data": {
            "text/plain": [
              "0    01/01/1981\n",
              "1    02/01/1981\n",
              "2    03/01/1981\n",
              "3    04/01/1981\n",
              "4    05/01/1981\n",
              "Name: Fecha, dtype: object"
            ]
          },
          "metadata": {
            "tags": []
          },
          "execution_count": 114
        }
      ]
    },
    {
      "cell_type": "markdown",
      "metadata": {
        "id": "WqfDJz98_w2G"
      },
      "source": [
        "* **Convertimos el objeto Fecha a formato de fecha que comprende Python**\r\n",
        "> Esto con ayuda de la función de Pandas pd.to_datetime()"
      ]
    },
    {
      "cell_type": "code",
      "metadata": {
        "id": "E04DupkV_i7G"
      },
      "source": [
        "#Aquí vamos a convertir del tipo objeto a el formato que el lenguaje utilizado comprende\r\n",
        "#Esto ya que la variable tipo fecha de Python, contiene mucha información condensada\r\n",
        "#La función pd.to_datetime convierte una cadena en tipo datetime64[ns]\r\n",
        "# Agregamos la opción de que el primer dato es el día (dayfirst=True) \r\n",
        "df_work2['Fecha'] = pd.to_datetime(df_work2['Fecha'], dayfirst=True)"
      ],
      "execution_count": 117,
      "outputs": []
    },
    {
      "cell_type": "markdown",
      "metadata": {
        "id": "3FY5fgNTqOWe"
      },
      "source": [
        "* **Verificar que todas las variables son del tipo deseado**\r\n",
        "> Esto con ayuda de la función df.dtypes"
      ]
    },
    {
      "cell_type": "code",
      "metadata": {
        "colab": {
          "base_uri": "https://localhost:8080/"
        },
        "id": "HfTR1Wyvrcwg",
        "outputId": "dd234ccc-ad11-4e3c-cba8-a28c0cbc7e02"
      },
      "source": [
        "df_work2.dtypes"
      ],
      "execution_count": 119,
      "outputs": [
        {
          "output_type": "execute_result",
          "data": {
            "text/plain": [
              "Fecha     datetime64[ns]\n",
              "Precip           float64\n",
              "Evap             float64\n",
              "Tmax             float64\n",
              "Tmin             float64\n",
              "Año                int64\n",
              "Mes                int64\n",
              "dtype: object"
            ]
          },
          "metadata": {
            "tags": []
          },
          "execution_count": 119
        }
      ]
    },
    {
      "cell_type": "markdown",
      "metadata": {
        "id": "H3VAhAf7rdNK"
      },
      "source": [
        "* **Creamos dos columnas nuevas adicionales df['Año'] y df['Mes'].**\r\n",
        "> Con ayuda de las funciones de Pandas df['Fecha'].dt.year y df['Fecha'].dt.month\r\n"
      ]
    },
    {
      "cell_type": "code",
      "metadata": {
        "id": "_CvK_ONkBsEy",
        "colab": {
          "base_uri": "https://localhost:8080/"
        },
        "outputId": "33c96e07-764f-47a7-f304-6b3482b20c4a"
      },
      "source": [
        "#Formato de año\r\n",
        "df_work2['Año'] = df_work2['Fecha'].dt.year\r\n",
        "#Formato de mes\r\n",
        "df_work2['Mes'] = df_work2['Fecha'].dt.month\r\n",
        "print(df_work1.head())"
      ],
      "execution_count": 118,
      "outputs": [
        {
          "output_type": "stream",
          "text": [
            "        Fecha  Precip  Evap  Tmax  Tmin\n",
            "0  01/01/1981     0.0   NaN  27.0   5.0\n",
            "1  02/01/1981     0.0   NaN  25.0   5.0\n",
            "2  03/01/1981     0.0   NaN  26.0   6.0\n",
            "3  04/01/1981     0.0   NaN  22.5   7.0\n",
            "4  05/01/1981     0.0   NaN  22.5   6.0\n"
          ],
          "name": "stdout"
        }
      ]
    },
    {
      "cell_type": "markdown",
      "metadata": {
        "id": "7NTSKQABr8gN"
      },
      "source": [
        "* **Verificamos que el dataframe tiene la forma deseada**\r\n",
        "> Esto con ayuda de la función print aplicado a las funciones df.head() y df.tail()"
      ]
    },
    {
      "cell_type": "code",
      "metadata": {
        "colab": {
          "base_uri": "https://localhost:8080/"
        },
        "id": "e9QcMPtVsRQS",
        "outputId": "88569235-3538-4924-9d30-5cadc66bf503"
      },
      "source": [
        "#Imprimimos los primeros 20 datos del DataFrame\r\n",
        "print(df_work2.head(20))\r\n",
        "#Imprimimos los últimos 20 datos del DataFrame\r\n",
        "print(df_work2.tail(20))"
      ],
      "execution_count": 124,
      "outputs": [
        {
          "output_type": "stream",
          "text": [
            "        Fecha  Precip  Evap  Tmax  Tmin   Año  Mes\n",
            "0  1981-01-01     0.0   NaN  27.0   5.0  1981    1\n",
            "1  1981-01-02     0.0   NaN  25.0   5.0  1981    1\n",
            "2  1981-01-03     0.0   NaN  26.0   6.0  1981    1\n",
            "3  1981-01-04     0.0   NaN  22.5   7.0  1981    1\n",
            "4  1981-01-05     0.0   NaN  22.5   6.0  1981    1\n",
            "5  1981-01-06     7.0   NaN  20.0   7.0  1981    1\n",
            "6  1981-01-07     7.0   NaN  15.0  10.0  1981    1\n",
            "7  1981-01-08     0.0   NaN  17.5   6.0  1981    1\n",
            "8  1981-01-09     0.0   NaN  21.0   5.0  1981    1\n",
            "9  1981-01-10     2.0   NaN  21.0   5.5  1981    1\n",
            "10 1981-01-11     5.0   NaN  18.0   9.0  1981    1\n",
            "11 1981-01-12    20.0   NaN  17.0  12.0  1981    1\n",
            "12 1981-01-13     6.2   NaN  19.0  10.0  1981    1\n",
            "13 1981-01-14     0.0   NaN  20.0   3.5  1981    1\n",
            "14 1981-01-15     3.2   NaN  20.0   4.0  1981    1\n",
            "15 1981-01-16     0.0   NaN  20.0   8.0  1981    1\n",
            "16 1981-01-17     0.0   NaN  15.0   9.0  1981    1\n",
            "17 1981-01-18     0.0   NaN  11.0   2.0  1981    1\n",
            "18 1981-01-19     0.0   NaN  20.5   2.0  1981    1\n",
            "19 1981-01-20     0.0   NaN  19.5   3.5  1981    1\n",
            "           Fecha  Precip  Evap  Tmax  Tmin   Año  Mes\n",
            "12119 2016-04-11     0.0   NaN  19.0   5.0  2016    4\n",
            "12120 2016-04-12     0.0   NaN  23.0   7.0  2016    4\n",
            "12121 2016-04-13     0.0   NaN  27.0   7.0  2016    4\n",
            "12122 2016-04-14     0.0   NaN  27.0   8.0  2016    4\n",
            "12123 2016-04-15     0.0   NaN  25.0   8.0  2016    4\n",
            "12124 2016-04-16     0.0   NaN  21.0   5.0  2016    4\n",
            "12125 2016-04-17     0.0   NaN  25.0   4.0  2016    4\n",
            "12126 2016-04-18     0.0   NaN  27.0   5.0  2016    4\n",
            "12127 2016-04-19     0.0   NaN  30.0   5.0  2016    4\n",
            "12128 2016-04-20     0.0   NaN  31.0   8.0  2016    4\n",
            "12129 2016-04-21     0.0   NaN  32.0   7.0  2016    4\n",
            "12130 2016-04-22     0.0   NaN  32.0   7.0  2016    4\n",
            "12131 2016-04-23     0.0   NaN  32.0   8.0  2016    4\n",
            "12132 2016-04-24     0.0   NaN  28.0   7.0  2016    4\n",
            "12133 2016-04-25     0.0   NaN  29.0   6.0  2016    4\n",
            "12134 2016-04-26     0.0   NaN  28.0   5.0  2016    4\n",
            "12135 2016-04-27     0.0   NaN  25.0   5.0  2016    4\n",
            "12136 2016-04-28     0.0   NaN  25.0   5.0  2016    4\n",
            "12137 2016-04-29     0.0   NaN  23.0   4.0  2016    4\n",
            "12138 2016-04-30     0.0   NaN  23.0   6.0  2016    4\n"
          ],
          "name": "stdout"
        }
      ]
    },
    {
      "cell_type": "markdown",
      "metadata": {
        "id": "hntEYHBdsU_g"
      },
      "source": [
        "* **Verificamos que todas las variables son del tipo adecuado**\r\n",
        "> Esto con ayuda de la función df.dtypes\r\n",
        "\r\n"
      ]
    },
    {
      "cell_type": "code",
      "metadata": {
        "colab": {
          "base_uri": "https://localhost:8080/"
        },
        "id": "bv-U-65Grzxn",
        "outputId": "9c5e34fa-443b-4f0a-8135-6ebfd4acfb14"
      },
      "source": [
        "#Ahora si verificamos que cambiamos el tipo de datos, en este caso a fecha y tiempo.\r\n",
        "print(df_work2.dtypes)"
      ],
      "execution_count": 126,
      "outputs": [
        {
          "output_type": "stream",
          "text": [
            "Fecha     datetime64[ns]\n",
            "Precip           float64\n",
            "Evap             float64\n",
            "Tmax             float64\n",
            "Tmin             float64\n",
            "Año                int64\n",
            "Mes                int64\n",
            "dtype: object\n"
          ],
          "name": "stdout"
        }
      ]
    }
  ]
}
